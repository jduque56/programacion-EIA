{
 "cells": [
  {
   "attachments": {},
   "cell_type": "markdown",
   "metadata": {},
   "source": [
    "# Solucion del mini challenge propuesto en clase por el profesor"
   ]
  },
  {
   "attachments": {},
   "cell_type": "markdown",
   "metadata": {},
   "source": [
    "#### #1. Implemente una función que pida al usuario ingresar una frase y luego la muestre en consola usando solo minúsculas y luego solo mayúsculas  "
   ]
  },
  {
   "cell_type": "code",
   "execution_count": 1,
   "metadata": {},
   "outputs": [
    {
     "name": "stdout",
     "output_type": "stream",
     "text": [
      "hok\n",
      "HOK\n"
     ]
    }
   ],
   "source": [
    "#En esta primera parte voy a definir la funcion\n",
    "def conversor():\n",
    "    #Guardar la frase en una variable\n",
    "    pal = input(\"Ingrese una frase cualquier: \")\n",
    "    #Mostrar en mantalla frase en minuscula y mayuscula\n",
    "    print(pal.casefold())\n",
    "    print(pal.upper())\n",
    "\n",
    "#Hago uso de la funcion previamente utilizada\n",
    "conversor()"
   ]
  },
  {
   "attachments": {},
   "cell_type": "markdown",
   "metadata": {},
   "source": [
    "En la solucion anterior se empleoron dos comandos bastante interesantes:  \n",
    "\n",
    "1. `.casefold()`, comando que se emplea para convertir las entradas de un string en minusculas.  \n",
    "2. `.upper()`, la cual hace todo lo contrario ya que las convierte en mayusculas.  \n",
    " \n",
    "Tambien se se creo una funcion la cual permite reutilizar dicho codigo en caso de que se necesite de nuevo.  "
   ]
  },
  {
   "attachments": {},
   "cell_type": "markdown",
   "metadata": {},
   "source": [
    "#### #2. Implemente una función que pida al usuario ingresar una frase, luego reemplace cada espacio por puntos suspensivos y finalmente la muestre en consola  "
   ]
  },
  {
   "cell_type": "code",
   "execution_count": null,
   "metadata": {},
   "outputs": [],
   "source": [
    "#creo la funcion\n",
    "def reemplazar():\n",
    "    fra = input(\"Ingrese una frase cualquiera\").strip().title()\n",
    "    #redefino la variable anterior\n",
    "    fra = fra.replace(\" \",\"...\")\n",
    "    #imprimo en consola\n",
    "    print(fra)\n",
    "\n",
    "#Ejecuto la funcion\n",
    "reemplazar()\n"
   ]
  },
  {
   "attachments": {},
   "cell_type": "markdown",
   "metadata": {},
   "source": [
    "En la solucion anterior aparecieron los comandos `.strip()` y `.title()`, estos sirven para quitar los espacios antes y despues de una oracion y volver la primera entrada en mayuscula y de resto en minuscula, respectivapente.  "
   ]
  },
  {
   "attachments": {},
   "cell_type": "markdown",
   "metadata": {},
   "source": [
    "#### #3. Una forma de calcular el precio de venta $p$ de un artículo con base en el porcentaje de ganancia esperado $G$ y el costo de manufactura $c$ viene dada por la expresión: $$p = \\frac{c}{1-g},$$ donde $g$ es el valor de $G$ expresado como decimal (i.e. 48\\% = 0.48). Complete el siguiente código de manera que calcule automáticamente el precio de venta de un artículo y lo imprima en consola  "
   ]
  },
  {
   "cell_type": "code",
   "execution_count": null,
   "metadata": {},
   "outputs": [],
   "source": [
    "#defino las tres funciones que utilizare\n",
    "def main():\n",
    "    costo = costo_float()\n",
    "    margen = margen_float()\n",
    "    c = costo\n",
    "    g = margen\n",
    "    #calcular precio de venta\n",
    "    p=c/(1-g)\n",
    "    # Imprimir en consola el precio de venta usando f-string\n",
    "    str(print(f\"El precio de venta de el producto es: {p}\" ))\n",
    "\n",
    "def costo_float():\n",
    "    c = float(input(\"Ingrese el costo de manofactura del producto: \"))\n",
    "    return c\n",
    "\n",
    "def margen_float():\n",
    "    G = input(\"ingrese el porcentaje de ganancia esperado sin caracteres especiales: \")\n",
    "    g = float(int(G)/100)\n",
    "    return g\n",
    "\n",
    "#Ejecuto la funcion main para calcular de precio de venta\n",
    "main()\n",
    "    "
   ]
  },
  {
   "attachments": {},
   "cell_type": "markdown",
   "metadata": {},
   "source": [
    "La solucion anterior los introdujo a una nueva herramineta que es el ***f-string*** el cual permite concatenar un string con una variable float, funcion que les es muy util a la hora de resolver ejercicios de esta indole. tambien se introdujeron formas de convertir un objeto a float o int mediante las funciones `float(objeto)` e `int(objeto)`.  "
   ]
  },
  {
   "attachments": {},
   "cell_type": "markdown",
   "metadata": {},
   "source": [
    "#### #4. Una litografía requiere un programa que calcule el valor de imprimir y empastar un libro. El precio de impresión es de \\\\$80 por cada página, con un recargo de \\\\$45 por cada imagen a color. Además, el precio de la pasta es de \\\\$50,000 y es independiente de la cantidad de páginas. El programa a desarrollar debe hacer la captura del nombre del cliente, su identificación, el número total de páginas del documento y la cantidad de imágenes a color. Como salida se debe mostrar la información del cliente, el detalle de los rubros por columnas (Descripción, cantidad, precio unitario y total) y el valor total a cobrar. El programa debe utilizar funciones separadas para cada cálculo y una función `main()`  "
   ]
  },
  {
   "cell_type": "code",
   "execution_count": null,
   "metadata": {},
   "outputs": [],
   "source": [
    "#creo las funciones que me ayudaran a darle solucion a mi problema\n",
    "#Sera la que me imprimira toda la informacion necesitada\n",
    "def main():\n",
    "    paginas = int_precioPag()\n",
    "    imagenes = int_precioImg()\n",
    "    pasta = int(50000)\n",
    "    cnt = int(input(\"Ingrese la cantidad de libros que desea el cliente:\"))\n",
    "    print(inf())\n",
    "    print(f\"Cantidad de libros: {cnt}\\nPrecio unitario es de: {paginas+imagenes+pasta}\\nCobrar: {(paginas+imagenes+pasta)*cnt}\")\n",
    "#calculara el precio por las paginas\n",
    "def int_precioPag():\n",
    "    cnt = input(\"Ingrese el numero de paginas que quiere imprimir: \")\n",
    "    total = int(cnt)*80\n",
    "    return total\n",
    "#calcular el precio por cada imagen a color\n",
    "def int_precioImg():\n",
    "    cnt = input(\"Ingrese el numero de imagenes a color que tiene el libro: \")\n",
    "    total = int(cnt)*45\n",
    "    return total\n",
    "#Ingresar toda la informacion del cliente\n",
    "def inf():\n",
    "    nombre = input(\"Ingrese el nombre del cliente: \").strip().title()\n",
    "    id = int(input(\"Ingrese el numero de identificacion del cliente: \"))\n",
    "    persona = nombre+\"\\nDocumento: \"+str(id)\n",
    "    return persona\n",
    "\n",
    "#Ejecuto el algoritmo\n",
    "main()\n",
    "\n",
    "\n",
    "\n"
   ]
  },
  {
   "attachments": {},
   "cell_type": "markdown",
   "metadata": {},
   "source": [
    "Para la solucion del ultimo punto, se emplearon todas las habilidades adquiridas durante la solucion de todo el mini challenge propuesto por el profesor.  "
   ]
  }
 ],
 "metadata": {
  "kernelspec": {
   "display_name": "Python 3",
   "language": "python",
   "name": "python3"
  },
  "language_info": {
   "codemirror_mode": {
    "name": "ipython",
    "version": 3
   },
   "file_extension": ".py",
   "mimetype": "text/x-python",
   "name": "python",
   "nbconvert_exporter": "python",
   "pygments_lexer": "ipython3",
   "version": "3.10.4"
  },
  "orig_nbformat": 4,
  "vscode": {
   "interpreter": {
    "hash": "3ad933181bd8a04b432d3370b9dc3b0662ad032c4dfaa4e4f1596c548f763858"
   }
  }
 },
 "nbformat": 4,
 "nbformat_minor": 2
}
