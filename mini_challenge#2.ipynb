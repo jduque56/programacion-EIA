{
 "cells": [
  {
   "attachments": {},
   "cell_type": "markdown",
   "metadata": {},
   "source": [
    "<h1 align=\"center\">Programación</h1>\n",
    "<h3 align=\"center\">Jorge Andres Duque Restrepo</h3>\n",
    "<h3 align=\"center\">Mini challenge #2</h3>\n",
    "<h3 align=\"center\">07/02/2023</h3>"
   ]
  },
  {
   "attachments": {},
   "cell_type": "markdown",
   "metadata": {},
   "source": [
    "### 1. En matemáticas financieras, si al final de cada año se deposita una cantidad $P$ a una tasa de interés decimal $r$ compuesta anualmente, el monto acumulado $A$ en $n$ años es: $$A = P\\left(\\frac{(1+r)^n-1}{r}\\right).$$ **Diseñe** un programa en `Python`que implemente las siguientes funciones para calcular el valor acumulado de una inversión anual."
   ]
  },
  {
   "attachments": {},
   "cell_type": "markdown",
   "metadata": {},
   "source": [
    "![pseudocodigo 1](img/pseudoc_1.png)"
   ]
  },
  {
   "cell_type": "code",
   "execution_count": null,
   "metadata": {},
   "outputs": [],
   "source": [
    "#funcion que realice el calculo del valor acomulado\n",
    "def main() :\n",
    "    \"\"\"\n",
    "    main()\n",
    "\n",
    "    calcula el vaor acomulado aplicando la formula: A = P(((1+r)**n - 1)/r)\n",
    "\n",
    "    parametros\n",
    "    ----------\n",
    "    (P) anualidad:int\n",
    "    (r) tasa:float\n",
    "    (n) plazo:int\n",
    "\n",
    "    retorna\n",
    "    -------\n",
    "    A:float\n",
    "\n",
    "    Ejemplos\n",
    "\n",
    "    main()\n",
    "    \"\"\"\n",
    "    anualidad = anualidad_redodeo()\n",
    "    tasa = tasa_float()\n",
    "    plazo = plazo_entero()\n",
    "    A = float(anualidad)*(((1+tasa)**plazo - 1)/tasa)\n",
    "\n",
    "    print(f\"Usted a acomulado: {A:,.2f} en {plazo} años\")\n",
    "\n",
    "#funcion que pida la anualidad, la redondee y la devuelva\n",
    "def anualidad_redodeo():\n",
    "    \"\"\"\n",
    "    anualidad_redodeo()\n",
    "\n",
    "    pide al usiario la anualidad y la redondea al multiplo de mil mas cercano\n",
    "\n",
    "    parametros\n",
    "    ----------\n",
    "    anualidad:int\n",
    "\n",
    "    retorna\n",
    "    -------\n",
    "    anualidad:int\n",
    "\n",
    "    Ejemplos\n",
    "\n",
    "    print(f\"la anualiad es: {anualidad}\")\n",
    "    \"\"\"\n",
    "    anualidad = int(input(\"ingrese la anualidad: \"))\n",
    "    anualidad = round(anualidad,-3)\n",
    "\n",
    "    return anualidad\n",
    "#funcion que pida la tasa, la redondee y la devuelva \n",
    "def tasa_float():\n",
    "    \"\"\"\n",
    "    tasa_float()\n",
    "\n",
    "    pide al usiario la tasa anual de interes, la redonde a dos decimales y la devuelve como tal\n",
    "\n",
    "    parametros\n",
    "    ----------\n",
    "    tasa:float\n",
    "\n",
    "    retorna\n",
    "    -------\n",
    "    tasa:float\n",
    "\n",
    "    Ejemplos\n",
    "\n",
    "    print(f\"la tasa es: {tasa}\")\n",
    "    \"\"\"\n",
    "    tasa = input(\"ingrese la tasa anual de interes: \")\n",
    "    tasa = float(tasa.replace(\"%\",\"\"))\n",
    "    tasa = tasa/100\n",
    "    tasa = round(tasa,2)\n",
    "\n",
    "    return tasa\n",
    "#funcion que pida el plazo y lo devuelva como un entero\n",
    "def plazo_entero():\n",
    "    \"\"\"\n",
    "    plazo_entero()\n",
    "\n",
    "    pide al usiario el plazo en años y lo devuelve como entero\n",
    "\n",
    "    parametros\n",
    "    ----------\n",
    "    plazo:int\n",
    "\n",
    "    retorna\n",
    "    -------\n",
    "    plazo:int\n",
    "\n",
    "    Ejemplos\n",
    "\n",
    "    print(f\"tiene un plazo de: {tasa}, para pagar su deuda\")\n",
    "    \"\"\"\n",
    "    plazo = int(input(\"ingrese el plazo en años: \"))\n",
    "    \n",
    "    return plazo\n",
    "\n",
    "main()\n",
    "\n"
   ]
  },
  {
   "attachments": {},
   "cell_type": "markdown",
   "metadata": {},
   "source": [
    "### 2. Una receta para 48 galletas requiere \n",
    "    - 1.5 tazas de azúcar\n",
    "    - 1 taza de mantequilla\n",
    "    - 2.75 tazas de harina   \n",
    "    \n",
    "   **Diseñe** un programa en `Python`que ajuste la receta a una cantidad (entera) de galletas especificada por el usuario. Los valores se deben mostrar en columnas usando especificadores de ancho fijo y con dos cifras decimales."
   ]
  },
  {
   "attachments": {},
   "cell_type": "markdown",
   "metadata": {},
   "source": [
    "![pseudocodigo 2](img/pseudoc_2.png)"
   ]
  },
  {
   "cell_type": "code",
   "execution_count": null,
   "metadata": {},
   "outputs": [],
   "source": [
    "#le pido la cantidad de galletas al usuario\n",
    "cantidad_galletas = int(input(\"ingrese la cantidad de galletas que quiere preparar: \"))\n",
    "\n",
    "#calculos pertinentes utilizando una regla de 3\n",
    "tazas_azucar = (float(cantidad_galletas)*1.5)/48\n",
    "tazas_mantequilla = (float(cantidad_galletas)*1)/48\n",
    "tazas_harina = (float(cantidad_galletas)*2.75)/48\n",
    "\n",
    "#muestro en pantalla los valores organizados en columnas\n",
    "print(f\"{'ingrediente':^20} {'cantidad':^20}\")\n",
    "print(f\"{'-----':^20} {'-----':^20}\")\n",
    "print(f\"{'tazas de azucar':20} {tazas_azucar:^20.2f}\")\n",
    "print(f\"{'tazas de mantequilla':20} {tazas_mantequilla:^20.2f}\")\n",
    "print(f\"{'tazas de harina':20} {tazas_harina:^20.2f}\")\n"
   ]
  },
  {
   "attachments": {},
   "cell_type": "markdown",
   "metadata": {},
   "source": [
    "### 3. Escriba un programa en `Python` que pida al usuario ingresar 6 números enteros para luego calcular las medias armónica y aritmética de ellos y las muestre en consola usando `f-string`.\n",
    "\n"
   ]
  },
  {
   "cell_type": "code",
   "execution_count": null,
   "metadata": {},
   "outputs": [],
   "source": [
    "#pido los 6 numeros\n",
    "n1 = float(input(\"ingrese un numero entero: \"))\n",
    "n2 = float(input(\"ingrese un numero entero: \"))\n",
    "n3 = float(input(\"ingrese un numero entero: \"))\n",
    "n4 = float(input(\"ingrese un numero entero: \"))\n",
    "n5 = float(input(\"ingrese un numero entero: \"))\n",
    "n6 = float(input(\"ingrese un numero entero: \"))\n",
    "\n",
    "#calculo su MH y MA\n",
    "media_armonica = 6/((1/n1)+(1/n1)+(1/n1)+(1/n1)+(1/n1)+(1/n1))\n",
    "media_aritmetica = (n1+n2+n3+n4+n5+n6)/6\n",
    "#muestro en pantalla el MH y MA\n",
    "print(f\"la media armonica es: {media_armonica:.2f}\\nla media aritmetica es: {media_aritmetica:.2f}\")"
   ]
  }
 ],
 "metadata": {
  "kernelspec": {
   "display_name": "Python 3",
   "language": "python",
   "name": "python3"
  },
  "language_info": {
   "codemirror_mode": {
    "name": "ipython",
    "version": 3
   },
   "file_extension": ".py",
   "mimetype": "text/x-python",
   "name": "python",
   "nbconvert_exporter": "python",
   "pygments_lexer": "ipython3",
   "version": "3.10.7"
  },
  "orig_nbformat": 4,
  "vscode": {
   "interpreter": {
    "hash": "58837b1b657ea91009af8409fc244ae3b5ccf93ea980d6fb6b80adc5f697f4cc"
   }
  }
 },
 "nbformat": 4,
 "nbformat_minor": 2
}
