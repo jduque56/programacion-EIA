{
 "cells": [
  {
   "attachments": {},
   "cell_type": "markdown",
   "metadata": {},
   "source": [
    "<h3 align=\"center\"></h3>"
   ]
  },
  {
   "attachments": {},
   "cell_type": "markdown",
   "metadata": {},
   "source": [
    "<h3 align=\"center\">Programación</h3>\n",
    "<h3 align=\"center\">Jorge Andres Duque Restrepo</h3>\n",
    "<h3 align=\"center\">Mini Challenge #6</h3>\n",
    "<h3 align=\"center\">20/03/2023</h3>\n"
   ]
  },
  {
   "attachments": {},
   "cell_type": "markdown",
   "metadata": {},
   "source": [
    "1. En el archivo **client_data.csv** encontrará una base de datos de 1000 personas, separados por `;`. Deberá desarrollar un programa que lea la base de datos y luego pregunte por consola por un número de serie (columna *serial*), buscarlo en la base de datos e imprimir los datos personales de la persona con este ID, siguiendo la estrutura:\n",
    "\n",
    "    <tt> {first_name} {last_name} with ID number {id} lives at {address_street}, {address_line}, works at {company} as {job_title}. You can reach {him/her/them -  depending on gender} at {email} writing in {mother_tongue}.</tt>"
   ]
  },
  {
   "cell_type": "code",
   "execution_count": null,
   "metadata": {},
   "outputs": [],
   "source": [
    "import csv\n",
    "serial = int(input(\"ingrese el numero de serial\"))\n",
    "with open('archivos_csv/client_data','r') as csvfile:\n",
    "    matriz=csv.reader(csvfile,\";\")\n",
    "\n",
    "    for row in matriz:\n",
    "        fila = "
   ]
  },
  {
   "attachments": {},
   "cell_type": "markdown",
   "metadata": {},
   "source": [
    "2. En el archivo **Monthlydata.csv** se registran los niveles mensuales promedio de radiación solar en la ciudad de Edimburgo, Escocia, desde el año 2005 al año 2020. Los nombes de las columnas indican lo siguiente (Source: PVGIS (c) European Union):\n",
    "    - H(h)_m: Irradiation on horizontal plane (kWh/m2/mo) \n",
    "    - H(i_opt)_m: Irradiation on optimally inclined plane (kWh/m2/mo) \n",
    "    - Hb(n)_m: Monthly beam (direct) irradiation on a plane always normal to sun rays (kWh/m2/mo)\n",
    "    - Kd: Ratio of diffuse to global irradiation (-)\n",
    "    - T2m: 24 hour average of temperature (degree Celsius)"
   ]
  },
  {
   "cell_type": "code",
   "execution_count": null,
   "metadata": {},
   "outputs": [],
   "source": [
    "import matplotlib.pyplot as plt\n",
    "x = [1, 2, 3]\n",
    "y = [[1, 2], [3, 4], [5, 6]]\n",
    "plt.plot(x, y)"
   ]
  }
 ],
 "metadata": {
  "kernelspec": {
   "display_name": "Python 3",
   "language": "python",
   "name": "python3"
  },
  "language_info": {
   "codemirror_mode": {
    "name": "ipython",
    "version": 3
   },
   "file_extension": ".py",
   "mimetype": "text/x-python",
   "name": "python",
   "nbconvert_exporter": "python",
   "pygments_lexer": "ipython3",
   "version": "3.10.7"
  },
  "orig_nbformat": 4,
  "vscode": {
   "interpreter": {
    "hash": "58837b1b657ea91009af8409fc244ae3b5ccf93ea980d6fb6b80adc5f697f4cc"
   }
  }
 },
 "nbformat": 4,
 "nbformat_minor": 2
}
