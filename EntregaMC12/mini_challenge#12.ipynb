{
 "cells": [
  {
   "attachments": {},
   "cell_type": "markdown",
   "metadata": {},
   "source": [
    "<h3 align='center'>Programacion</h3>\n",
    "<h3 align='center'>Jorge Andres Duque Restrepo</h3>\n",
    "<h3 align='center'>Mini challenge #12</h3>\n",
    "<h3 align='center'>08/05/2023</h3>"
   ]
  },
  {
   "cell_type": "code",
   "execution_count": 18,
   "metadata": {},
   "outputs": [],
   "source": [
    "import pandas as pd\n",
    "import numpy as np"
   ]
  },
  {
   "attachments": {},
   "cell_type": "markdown",
   "metadata": {},
   "source": [
    "1. En el archivo <tt>titanic.csv</tt> encontrará una data sobre los pasajeros del Titanic. Cargue los datos en un `DataFrame`y realice cálculos que permitan respoder las siguientes preguntas:\n",
    "    1. Número de pasajeros que sobrevivieron por cada clase (Columna <tt>Pclass</tt>)\n",
    "    1. Proporción de hombres y mujeres que murieron\n",
    "    1. Tarifa promedio por clase para sobrevivientes y muertos"
   ]
  },
  {
   "cell_type": "code",
   "execution_count": 15,
   "metadata": {},
   "outputs": [
    {
     "name": "stdout",
     "output_type": "stream",
     "text": [
      "Muertos por clase:\n",
      "Primera clase-136\n",
      "Segunda clase-87\n",
      "Tercera clase-119\n",
      "Hombres-%31.87\n",
      "Mujeres-%68.13\n",
      "Trifa promedio por clase:\n",
      "Primera clase-$95.61\n",
      "Segunda clase-$22.06\n",
      "Tercera clase-$13.69\n"
     ]
    }
   ],
   "source": [
    "#inicializo las variables que necesito\n",
    "aux_vivos=0\n",
    "aux_proporcionH=0\n",
    "aux_proporcionM=0\n",
    "contador=0\n",
    "aux_vivos1=0\n",
    "aux_vivos2=0\n",
    "aux_vivos3=0\n",
    "aux_promedio1=0\n",
    "aux_promedio2=0\n",
    "aux_promedio3=0\n",
    "\n",
    "#creo mi data frame con el archivo que nos piden interpretar\n",
    "pd.set_option('display.max_rows', None) \n",
    "titanic = pd.read_csv('archivos/titanic.csv',sep=',')\n",
    "\n",
    "#inicializo las condiciones\n",
    "condicion_v = titanic['Survived']==1 \n",
    "condicion_VH = (titanic.Survived==1) & (titanic.Sex=='male')\n",
    "condicion_VM = (titanic.Survived==1) & (titanic.Sex=='female')\n",
    "condicion_V1 = (titanic.Survived==1) & (titanic.Pclass==1)\n",
    "condicion_V2 = (titanic.Survived==1) & (titanic.Pclass==2)\n",
    "condicion_V3 = (titanic.Survived==1) & (titanic.Pclass==3)\n",
    "\n",
    "#ciclo While para contar cuantos vivos quedaron\n",
    "while contador<=890:\n",
    "    if condicion_v.loc[contador] == True:\n",
    "        aux_vivos+=1\n",
    "    contador+=1\n",
    "contador=0\n",
    "\n",
    "#Ciclo while para ver cuantos de esos sobrevivientes son hombres\n",
    "while contador<=890:\n",
    "    if condicion_VH.loc[contador] == True:\n",
    "        aux_proporcionH+=1\n",
    "    contador+=1\n",
    "contador=0\n",
    "\n",
    "#Ciclo while para ver cuantos de esos sobrevivientes son hombres\n",
    "while contador<=890:\n",
    "    if condicion_VM.loc[contador] == True:\n",
    "        aux_proporcionM+=1\n",
    "    contador+=1\n",
    "contador=0\n",
    "\n",
    "#ciclo While para contar cuantos vivos quedaron clsae 1 y promedio\n",
    "while contador<=890:\n",
    "    if condicion_V1.loc[contador] == True:\n",
    "        aux_vivos1+=1\n",
    "        aux_promedio1+=titanic.loc[contador,'Fare']\n",
    "    contador+=1\n",
    "contador=0\n",
    "\n",
    "#ciclo While para contar cuantos vivos quedaron clsae 2 y promedio\n",
    "while contador<=890:\n",
    "    if condicion_V2.loc[contador] == True:\n",
    "        aux_vivos2+=1\n",
    "        aux_promedio2+=titanic.loc[contador,'Fare']\n",
    "    contador+=1\n",
    "contador=0\n",
    "\n",
    "#ciclo While para contar cuantos vivos quedaron clsae 3 y promedio\n",
    "while contador<=890:\n",
    "    if condicion_V3.loc[contador] == True:\n",
    "        aux_vivos3+=1\n",
    "        aux_promedio3+=titanic.loc[contador,'Fare']\n",
    "    contador+=1\n",
    "\n",
    "#operaciones\n",
    "Hombres = float((aux_proporcionH/aux_vivos)*100)\n",
    "Mujeres = float((aux_proporcionM/aux_vivos)*100)\n",
    "promedio_calse1=float(aux_promedio1/aux_vivos1)\n",
    "promedio_clase2=float(aux_promedio2/aux_vivos2)\n",
    "promedio_clase3=float(aux_promedio3/aux_vivos3)\n",
    "\n",
    "#muestro en pantalla los resultados\n",
    "print(f\"Muertos por clase:\\nPrimera clase-{aux_vivos1}\\nSegunda clase-{aux_vivos2}\\nTercera clase-{aux_vivos3}\\nHombres-%{Hombres:.2f}\\nMujeres-%{Mujeres:.2f}\\nTrifa promedio por clase:\\nPrimera clase-${promedio_calse1:.2f}\\nSegunda clase-${promedio_clase2:.2f}\\nTercera clase-${promedio_clase3:.2f}\")\n",
    "\n"
   ]
  },
  {
   "cell_type": "code",
   "execution_count": 24,
   "metadata": {},
   "outputs": [
    {
     "name": "stderr",
     "output_type": "stream",
     "text": [
      "C:\\Users\\Acer\\AppData\\Local\\Temp\\ipykernel_6904\\2017306498.py:4: FutureWarning: Dropping of nuisance columns in DataFrame reductions (with 'numeric_only=None') is deprecated; in a future version this will raise TypeError.  Select only valid columns before calling the reduction.\n",
      "  media=boston.mean(numeric_only=None)\n",
      "C:\\Users\\Acer\\AppData\\Local\\Temp\\ipykernel_6904\\2017306498.py:5: FutureWarning: Dropping of nuisance columns in DataFrame reductions (with 'numeric_only=None') is deprecated; in a future version this will raise TypeError.  Select only valid columns before calling the reduction.\n",
      "  mediana=boston.median(numeric_only=None)\n"
     ]
    }
   ],
   "source": [
    "pd.set_option('display.max_rows', None) \n",
    "boston = pd.read_excel('archivos/boston_dataset.xlsx')\n",
    "boston.describe()\n",
    "media=boston.mean(numeric_only=None)\n",
    "mediana=boston.median(numeric_only=None)\n",
    "moda=boston.mode(numeric_only=None)"
   ]
  }
 ],
 "metadata": {
  "kernelspec": {
   "display_name": "base",
   "language": "python",
   "name": "python3"
  },
  "language_info": {
   "codemirror_mode": {
    "name": "ipython",
    "version": 3
   },
   "file_extension": ".py",
   "mimetype": "text/x-python",
   "name": "python",
   "nbconvert_exporter": "python",
   "pygments_lexer": "ipython3",
   "version": "3.9.13"
  },
  "orig_nbformat": 4,
  "vscode": {
   "interpreter": {
    "hash": "c28da407b5413b3940d87ecdae5ea8ce0c2929d84f560e9f5daaaa2573d53e68"
   }
  }
 },
 "nbformat": 4,
 "nbformat_minor": 2
}
