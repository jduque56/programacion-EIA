{
 "cells": [
  {
   "attachments": {},
   "cell_type": "markdown",
   "metadata": {},
   "source": [
    "<h1 align=\"center\">Programación</h1>\n",
    "<h3 align=\"center\">Jorge Andres Duque Restrepo<h3>\n",
    "<h3 align=\"center\">Mini challenge #4<h3>\n",
    "<h3 align=\"center\">17/02/2023<h3>"
   ]
  },
  {
   "attachments": {},
   "cell_type": "markdown",
   "metadata": {},
   "source": [
    "##### 1. Escriba un programa que utilice ciclos anidados para recopilar datos y calcular la precipitación promedio durante un período de años. El programa primero debe preguntar por el número de años. El ciclo externo iterará una vez por cada año. El ciclo interno iterará doce veces, una vez por cada mes. Cada iteración del ciclo interno le pedirá al usuario los milímetros de lluvia para ese mes. Después de todas las iteraciones, el programa debe mostrar el número de meses, el total de milímetros de lluvia y el promedio de lluvia por mes durante todo el período."
   ]
  },
  {
   "cell_type": "code",
   "execution_count": 4,
   "metadata": {},
   "outputs": [
    {
     "name": "stdout",
     "output_type": "stream",
     "text": [
      "meses:     12    total:   300.00  promedio:   25.00   \n",
      "meses:     12    total:   666.00  promedio:   55.50   \n"
     ]
    }
   ],
   "source": [
    "#Pido el numero de años\n",
    "años = int(input(\"ingrese el numero de años: \"))\n",
    "\n",
    "#ciclo for\n",
    "for n in range (1,años+1,1):\n",
    "    mm_lluvia_suma = 0.0\n",
    "    promedio = 0\n",
    "    for a in range (1,13,1):\n",
    "        mm_lluvia = float(input(f\"ingrese los mm de lluvia para el mes: {a}\"))\n",
    "        mm_lluvia_suma = mm_lluvia_suma+mm_lluvia\n",
    "    promedio = mm_lluvia_suma/12.0\n",
    "    print(f\"meses: {a:^10}total: {mm_lluvia_suma:^10.2f}promedio: {promedio:^10.2f}\")\n",
    "    "
   ]
  },
  {
   "attachments": {},
   "cell_type": "markdown",
   "metadata": {},
   "source": [
    "##### 2. Escriba un programa que prediga el tamaño aproximado de una población de organismos. La aplicación debe solicitar al usuario que ingrese el número inicial de organismos, el aumento diario promedio de la población (como porcentaje) y el número de días que los organismos tendrán que multiplicarse. Por ejemplo, suponga que el usuario ingresa los siguientes valores: \n",
    "    - Número inicial de organismos: 2 \n",
    "    - Incremento diario promedio: 30% \n",
    "    - Número de días para multiplicar: 10 "
   ]
  },
  {
   "cell_type": "code",
   "execution_count": 12,
   "metadata": {},
   "outputs": [
    {
     "name": "stdout",
     "output_type": "stream",
     "text": [
      "[[1, 2.0], [2, 2.6], [3, 3.38], [4, 4.394], [5, 5.7122], [6, 7.42586], [7, 9.653618], [8, 12.5497034], [9, 16.31461442], [10, 21.208998746000002]]\n",
      " Dia  Población aproximada \n",
      "  1           2.00         \n",
      "  2           2.60         \n",
      "  3           3.38         \n",
      "  4           4.39         \n",
      "  5           5.71         \n",
      "  6           7.43         \n",
      "  7           9.65         \n",
      "  8          12.55         \n",
      "  9          16.31         \n",
      " 10          21.21         \n"
     ]
    }
   ],
   "source": [
    "#le solicito al usuario\n",
    "organismos = float(input(\"Ingrese el numero inicial de organismos:\"))\n",
    "aumento = input(\"ingrese el aumento diario de organismos:\")\n",
    "dias = int(input(\"Ingrese el numero de dias que se multiplicaran los organismos:\"))\n",
    "aumento = float(aumento.replace(\"%\",\"\"))\n",
    "aumento = aumento/100.0\n",
    "aumento_matriz=[[1,1]]\n",
    "aumento_matriz[0][0]=1\n",
    "aumento_matriz[0][1]=organismos\n",
    "\n",
    "#ciclo for para llenar mi matriz \n",
    "for x in range(1,dias,1):\n",
    "        aumento_matriz.append([1,1])\n",
    "        aumento_matriz[x][0]=x+1\n",
    "        for y in range(1,2,1):\n",
    "            aumento_matriz[x][y]=(aumento_matriz[x-1][y]*aumento)+aumento_matriz[x-1][y]\n",
    "print (aumento_matriz)\n",
    "#ciclo para mostrar los resultados de mi matriz\n",
    "print(f\"{'Dia':^5}{'Población aproximada':^22}\")\n",
    "for x in range(0,dias,1):\n",
    "    for y in range(1,2,1):\n",
    "        print(f\"{aumento_matriz[x][0]:^5}{aumento_matriz[x][y]:^22.2f}\")\n"
   ]
  },
  {
   "attachments": {},
   "cell_type": "markdown",
   "metadata": {},
   "source": [
    "##### 3.Escriba un programa que implemente el juego de Punto y Fama, que consiste en adivinar las cifras, y su posición, de un número entero de cuatro dígitos únicos, generado de manera aleatoria. El usuario tiene diez intentos para lograrlo y el juego provee pistas al jugador en cada intento, denominados Puntos y Famas. Las pistas no son suministradas en un orden específico, por ende el usuario no sabe cuál de los números introducidos es punto o fama. Una fama corresponde a una cifra correcta y en la posición corecta. Un punto corresponde solo a una cifra correcta."
   ]
  },
  {
   "cell_type": "code",
   "execution_count": null,
   "metadata": {},
   "outputs": [],
   "source": [
    "import random\n",
    "\n",
    "#genero el numero aleatorio\n",
    "num = random.randint(1000,9999)\n",
    "num = str(num)\n",
    "x=1\n",
    "fama = 0\n",
    "punto = 0\n",
    "num_array=[]\n",
    "for c in num:\n",
    "    num_array.append(c)\n",
    "\n",
    "#juego fama y punto while X for\n",
    "while x <= 10:\n",
    "\n",
    "#pido el numero, si es igual a 0000 lo para\n",
    "    num1=input(\"ingrese un numero de 4 digitos para el juego punto fama\")\n",
    "    if num1 == \"0000\":\n",
    "     break\n",
    "\n",
    "#lo convierto a entero para evaluar que si hayan puesto un numero, si es el caso, inicia el juego!!!\n",
    "    num1 = int(num1)\n",
    "    if num1<1000 or num1>9999:\n",
    "        print(\"error, solo se pueden numeros entre 1000 y 9999. Escoja otro numero\")\n",
    "        print(f\"tiene {10-x} intentos restantes\")\n",
    "        x=x+1\n",
    "\n",
    "#si es igual, se acaba el codigo\n",
    "    elif num == num1:\n",
    "        print(\"felicidades adivinaste!!!!\")\n",
    "        break\n",
    "\n",
    "#jeugo punto y fama \n",
    "    else:  \n",
    "        num1=str(num1)\n",
    "        num1_array = []\n",
    "        for d in num1:\n",
    "            num1_array.append(d)\n",
    "        else:\n",
    "            punto=0\n",
    "            fama=0\n",
    "            for a in range(0,4,1):\n",
    "                for b in range(0,4,1):\n",
    "                    if num_array[a] == num1_array[b] and a == b:\n",
    "                        fama += 1\n",
    "                    elif num_array[a] == num1_array[b] and a != b:\n",
    "                        punto += 1\n",
    "            print(f\"fama: {fama}\")\n",
    "            print(f\"punto: {punto}\")\n",
    "            print(f\"tiene {10-x} intentos restantes\")\n",
    "        x=x+1\n",
    "        \n",
    "print(num_array)\n"
   ]
  }
 ],
 "metadata": {
  "kernelspec": {
   "display_name": "Python 3",
   "language": "python",
   "name": "python3"
  },
  "language_info": {
   "codemirror_mode": {
    "name": "ipython",
    "version": 3
   },
   "file_extension": ".py",
   "mimetype": "text/x-python",
   "name": "python",
   "nbconvert_exporter": "python",
   "pygments_lexer": "ipython3",
   "version": "3.10.7"
  },
  "orig_nbformat": 4,
  "vscode": {
   "interpreter": {
    "hash": "58837b1b657ea91009af8409fc244ae3b5ccf93ea980d6fb6b80adc5f697f4cc"
   }
  }
 },
 "nbformat": 4,
 "nbformat_minor": 2
}
