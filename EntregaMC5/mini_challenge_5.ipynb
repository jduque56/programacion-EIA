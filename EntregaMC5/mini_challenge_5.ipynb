{
 "cells": [
  {
   "attachments": {},
   "cell_type": "markdown",
   "metadata": {},
   "source": [
    "<h3 align=\"center\">Programacion</h3>\n",
    "<h3 align=\"center\">Jorge Andres Duque Restrepo</h3>\n",
    "<h3 align=\"center\">Mini Challenge #5</h3>\n",
    "<h3 align=\"center\">24/02/2023</h3>"
   ]
  },
  {
   "cell_type": "code",
   "execution_count": 3,
   "metadata": {},
   "outputs": [
    {
     "name": "stdout",
     "output_type": "stream",
     "text": [
      "[(5.2803696782307+0j), (-4.397532854141501-2.220446049250313e-16j), (-0.8828368240891995-4.440892098500626e-16j)]\n"
     ]
    }
   ],
   "source": [
    "import paquete_MC5.polinomios as p\n",
    " \n",
    "print(p.raices(-1,6,12,5))"
   ]
  },
  {
   "cell_type": "code",
   "execution_count": 7,
   "metadata": {},
   "outputs": [
    {
     "name": "stdout",
     "output_type": "stream",
     "text": [
      "(2+2j)\n"
     ]
    }
   ],
   "source": [
    "import numpy\n",
    "a = numpy.sqrt(8j)\n",
    "print(a)"
   ]
  }
 ],
 "metadata": {
  "kernelspec": {
   "display_name": "Python 3",
   "language": "python",
   "name": "python3"
  },
  "language_info": {
   "codemirror_mode": {
    "name": "ipython",
    "version": 3
   },
   "file_extension": ".py",
   "mimetype": "text/x-python",
   "name": "python",
   "nbconvert_exporter": "python",
   "pygments_lexer": "ipython3",
   "version": "3.10.4"
  },
  "orig_nbformat": 4,
  "vscode": {
   "interpreter": {
    "hash": "3ad933181bd8a04b432d3370b9dc3b0662ad032c4dfaa4e4f1596c548f763858"
   }
  }
 },
 "nbformat": 4,
 "nbformat_minor": 2
}
