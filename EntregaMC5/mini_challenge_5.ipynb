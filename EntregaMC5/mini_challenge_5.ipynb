{
 "cells": [
  {
   "attachments": {},
   "cell_type": "markdown",
   "metadata": {},
   "source": [
    "<h3 align=\"center\">Programacion</h3>\n",
    "<h3 align=\"center\">Jorge Andres Duque Restrepo</h3>\n",
    "<h3 align=\"center\">Mini Challenge #5</h3>\n",
    "<h3 align=\"center\">24/02/2023</h3>"
   ]
  },
  {
   "attachments": {},
   "cell_type": "markdown",
   "metadata": {},
   "source": [
    "##### 1. Adicione al modulo polinomios.py la función raices(*args) (con sus correspondientes pruebas unitarias) que debe calcular las raíces de un polinomio de grado menor o igual a cuatro."
   ]
  },
  {
   "cell_type": "code",
   "execution_count": 7,
   "metadata": {},
   "outputs": [
    {
     "name": "stdout",
     "output_type": "stream",
     "text": [
      "[-2.0]\n",
      "(-1.7662164793714106+1.8751773211393712j)\n",
      "0\n",
      "1\n",
      "2\n",
      "[3.532432958742821, (-1.7662164793714106+1.8751773211393712j), (-1.7662164793714106-1.8751773211393712j)]\n"
     ]
    },
    {
     "ename": "TypeError",
     "evalue": "'float' object is not subscriptable",
     "output_type": "error",
     "traceback": [
      "\u001b[0;31m---------------------------------------------------------------------------\u001b[0m",
      "\u001b[0;31mTypeError\u001b[0m                                 Traceback (most recent call last)",
      "Cell \u001b[0;32mIn[7], line 4\u001b[0m\n\u001b[1;32m      1\u001b[0m \u001b[39mimport\u001b[39;00m \u001b[39mpaquete_MC5\u001b[39;00m\u001b[39m.\u001b[39;00m\u001b[39mpolinomios\u001b[39;00m \u001b[39mas\u001b[39;00m \u001b[39mp\u001b[39;00m\n\u001b[1;32m      3\u001b[0m \u001b[39mprint\u001b[39m(p\u001b[39m.\u001b[39mraices(\u001b[39m1\u001b[39m,\u001b[39m2\u001b[39m))\n\u001b[0;32m----> 4\u001b[0m \u001b[39mprint\u001b[39m(p\u001b[39m.\u001b[39;49mraices_4(\u001b[39m3\u001b[39;49m,\u001b[39m7\u001b[39;49m,\u001b[39m56\u001b[39;49m,\u001b[39m9\u001b[39;49m,\u001b[39m2\u001b[39;49m))\n",
      "File \u001b[0;32m/workspaces/programacion-EIA/EntregaMC5/paquete_MC5/polinomios.py:132\u001b[0m, in \u001b[0;36mraices_4\u001b[0;34m(*args)\u001b[0m\n\u001b[1;32m    130\u001b[0m     \u001b[39mprint\u001b[39m (i)\n\u001b[1;32m    131\u001b[0m \u001b[39mprint\u001b[39m (sq)\n\u001b[0;32m--> 132\u001b[0m e \u001b[39m=\u001b[39m sq[\u001b[39m0\u001b[39;49m][\u001b[39m0\u001b[39;49m]\n\u001b[1;32m    133\u001b[0m k \u001b[39m=\u001b[39m sq[\u001b[39m0\u001b[39m][\u001b[39m1\u001b[39m]\n\u001b[1;32m    134\u001b[0m sq_1 \u001b[39m=\u001b[39m a\u001b[39m.\u001b[39mreal\n",
      "\u001b[0;31mTypeError\u001b[0m: 'float' object is not subscriptable"
     ]
    }
   ],
   "source": [
    "import paquete_MC5.polinomios as p\n",
    " \n",
    "print(p.raices(1,2))\n",
    "print(p.raices_4(3,7,56,9,2))"
   ]
  },
  {
   "attachments": {},
   "cell_type": "markdown",
   "metadata": {},
   "source": [
    "##### 2. Desarrolle el módulo unidades.py que debe contener las funciones de conversión, en las dos vías, de las siguientes unidades:\n",
    "\n",
    "    -metro a pie\n",
    "    -hectárea a metro cuadrado\n",
    "    -bar a psi\n",
    "    -grado Celcius a Fahrenheit\n",
    "    -Newton a Kilogramo-fuerza\n",
    "    -rad/s a rpm"
   ]
  },
  {
   "cell_type": "code",
   "execution_count": null,
   "metadata": {},
   "outputs": [],
   "source": [
    "import paquete_MC5.unidades as u\n",
    "print(u.newton_kilopondio(\"Kp\",25.5))"
   ]
  },
  {
   "attachments": {},
   "cell_type": "markdown",
   "metadata": {},
   "source": [
    "##### 3. Implemente el módulo distancias.py que debe contener el cálculo de las siguientes distancias entre dos puntos:\n",
    "\n",
    "    -Manhattan\n",
    "    -Euclidiana\n",
    "    -Chebyshev"
   ]
  },
  {
   "cell_type": "code",
   "execution_count": 6,
   "metadata": {},
   "outputs": [
    {
     "name": "stdout",
     "output_type": "stream",
     "text": [
      "5\n",
      "3\n",
      "3.605551275463989\n"
     ]
    }
   ],
   "source": [
    "import paquete_MC5.distancias as d\n",
    "print(d.manhattan(5,7,8,9))\n",
    "print(d.chebyshev(5,7,8,9))\n",
    "print(d.euclidiana(5,7,8,9))"
   ]
  }
 ],
 "metadata": {
  "kernelspec": {
   "display_name": "Python 3 (ipykernel)",
   "language": "python",
   "name": "python3"
  },
  "language_info": {
   "codemirror_mode": {
    "name": "ipython",
    "version": 3
   },
   "file_extension": ".py",
   "mimetype": "text/x-python",
   "name": "python",
   "nbconvert_exporter": "python",
   "pygments_lexer": "ipython3",
   "version": "3.10.4"
  },
  "orig_nbformat": 4,
  "vscode": {
   "interpreter": {
    "hash": "3ad933181bd8a04b432d3370b9dc3b0662ad032c4dfaa4e4f1596c548f763858"
   }
  }
 },
 "nbformat": 4,
 "nbformat_minor": 2
}
