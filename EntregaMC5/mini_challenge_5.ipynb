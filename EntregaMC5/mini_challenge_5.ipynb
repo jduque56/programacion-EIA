{
 "cells": [
  {
   "attachments": {},
   "cell_type": "markdown",
   "metadata": {},
   "source": [
    "<h3 align=\"center\">Programacion</h3>\n",
    "<h3 align=\"center\">Jorge Andres Duque Restrepo</h3>\n",
    "<h3 align=\"center\">Mini Challenge #5</h3>\n",
    "<h3 align=\"center\">24/02/2023</h3>"
   ]
  },
  {
   "cell_type": "code",
   "execution_count": null,
   "metadata": {},
   "outputs": [],
   "source": []
  },
  {
   "cell_type": "code",
   "execution_count": null,
   "metadata": {},
   "outputs": [],
   "source": []
  }
 ],
 "metadata": {
  "language_info": {
   "name": "python"
  },
  "orig_nbformat": 4
 },
 "nbformat": 4,
 "nbformat_minor": 2
}
