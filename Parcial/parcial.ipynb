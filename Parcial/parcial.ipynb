{
 "cells": [
  {
   "attachments": {},
   "cell_type": "markdown",
   "metadata": {},
   "source": [
    "##### Escriba una función que reciba como argumento una lista de números e imprima su media y mediana, usando dos cifras decimales.\n",
    "    Por ejemplo, si la lista recibida es:\n",
    "    [9, 10, 17, 13, 13, 13, 2, 15, 15, 16, 16, 18, 22, 23, 24, 24, 25, 1]\n",
    "    su programa debe retornar:\n",
    "    La media de la lista es: 15.33\n",
    "    La mediana de la lista es: 15.50\n"
   ]
  },
  {
   "cell_type": "code",
   "execution_count": 12,
   "metadata": {},
   "outputs": [
    {
     "name": "stdout",
     "output_type": "stream",
     "text": [
      "[[1.0, 2.0, 3.0, 4.0, 5.0]]\n",
      "2\n",
      "la media es de3.00 y la mediana es de3.00\n"
     ]
    }
   ],
   "source": [
    "def me(*args,num):\n",
    "    cnt=0.0\n",
    "    media=0\n",
    "    mediana=0\n",
    "    aux=0\n",
    "    listaux=[]\n",
    "    for idx3 in range(len(args)):\n",
    "        aux=args[idx3]\n",
    "        listaux.append(aux)\n",
    "\n",
    "    for idx in range(len(listaux[0])):\n",
    "        aux=listaux[0][idx]\n",
    "        cnt= cnt + listaux[0][idx]\n",
    "    media=cnt/num\n",
    "\n",
    "    for idx1 in range(len(listaux[0])):\n",
    "        for idx2 in range(len(listaux[0])):\n",
    "            if listaux[0][idx1]<=listaux[0][idx2]:\n",
    "                aux=listaux[0][idx1]\n",
    "                listaux[0][idx1]=listaux[0][idx2]\n",
    "                listaux[0][idx2]=aux\n",
    "    if num%2==0:\n",
    "        aux=num/2\n",
    "        mediana=(listaux[0][aux]+listaux[0][aux+1])/2\n",
    "    else:\n",
    "        aux=int(((num-1)/2))\n",
    "        mediana=listaux[0][aux]\n",
    "    \n",
    "    return media,mediana\n",
    "\n",
    "tamaño=int(input(\"ingrese el tamaño de la lista de numeros\"))\n",
    "lista=[]\n",
    "aux2=0\n",
    "for idx in range(tamaño):\n",
    "    aux2=float(input(\"ingrese un numero\"))\n",
    "    lista.append(aux2)\n",
    "\n",
    "media,mediana=me(lista,num=tamaño)\n",
    "\n",
    "print(f\"la media es de{media:.2f} y la mediana es de{mediana:.2f}\")\n"
   ]
  },
  {
   "attachments": {},
   "cell_type": "markdown",
   "metadata": {},
   "source": [
    "##### Escriba la función punto_medio(p1, p2) que reciba como argumentos las coordenadas del punto p1 (x1, y1) y el punto p2 (x2, y2) y calcule e imprima la distancia euclidiana entre los dos puntos y la ubicación del punto medio con coordenadas (x0, y0). Note que las coordenadas son tuplas.\n"
   ]
  },
  {
   "cell_type": "code",
   "execution_count": 14,
   "metadata": {},
   "outputs": [
    {
     "name": "stdout",
     "output_type": "stream",
     "text": [
      "Distancia entre p1 y p2: 5.00\n",
      "Punto medio: [2.0, 1.5]\n"
     ]
    }
   ],
   "source": [
    "import numpy as np\n",
    "def punto(*args):\n",
    "    x=args[0][0]-args[1][0]\n",
    "    x = np.abs(x)\n",
    "    y=args[0][1]-args[1][1]\n",
    "    y=abs(y)\n",
    "    listaaux=[]\n",
    "    aux=x**2 + y**2\n",
    "    distancia=float(np.sqrt(aux))\n",
    "    aux2=x/2\n",
    "    listaaux.append(aux2)\n",
    "    aux3=y/2\n",
    "    listaaux.append(aux3)\n",
    "    return distancia,listaaux\n",
    "distancia,pmedio=punto((0,2),(4,5))\n",
    "print(f\"Distancia entre p1 y p2: {distancia:.2f}\\nPunto medio: {pmedio}\")\n"
   ]
  },
  {
   "attachments": {},
   "cell_type": "markdown",
   "metadata": {},
   "source": [
    "#### Escriba la función pascal(n) que calcule e imprima las n filas del triángulo de Pascal, donde n es un número entero tal que n = 1, 2, ..., 9. La función puede recibir números de punto flotante, pero se debe hacer conversión al entero más cercano. Adicionalmente se debe validar que el número ingresado esté entre 1 y 9, en caso de ser un número mayor o igual a 10, debe imprimir un mensaje informando esta restricción; en caso de ser un número negativo, se debe imprimir un mensaje de error."
   ]
  },
  {
   "cell_type": "code",
   "execution_count": 20,
   "metadata": {},
   "outputs": [
    {
     "name": "stdout",
     "output_type": "stream",
     "text": [
      "[1]\n",
      "[1, 3, 3, 1]\n",
      "[1, 1]\n"
     ]
    }
   ],
   "source": [
    "def pascal(a):\n",
    "    a=int(a)\n",
    "    lista=[[1],[1,1],[1,2,1],[1,3,3,1],[1,4,6,4,1],[1,5,10,10,5,1],[1,6,15,20,15,6,1],[1,7,21,35,35,21,7,1],[1,8,28,56,70,56,28,8,9]]\n",
    "    limite=(len(lista))\n",
    "    \n",
    "    for idx in (0,a,1):\n",
    "        listaux=[]\n",
    "        for idx2 in range(len(lista[idx])):\n",
    "            listaux.append(lista[idx][idx2])\n",
    "        print(listaux)\n",
    "pascal(3)\n"
   ]
  }
 ],
 "metadata": {
  "kernelspec": {
   "display_name": "base",
   "language": "python",
   "name": "python3"
  },
  "language_info": {
   "codemirror_mode": {
    "name": "ipython",
    "version": 3
   },
   "file_extension": ".py",
   "mimetype": "text/x-python",
   "name": "python",
   "nbconvert_exporter": "python",
   "pygments_lexer": "ipython3",
   "version": "3.9.13"
  },
  "orig_nbformat": 4,
  "vscode": {
   "interpreter": {
    "hash": "c28da407b5413b3940d87ecdae5ea8ce0c2929d84f560e9f5daaaa2573d53e68"
   }
  }
 },
 "nbformat": 4,
 "nbformat_minor": 2
}
