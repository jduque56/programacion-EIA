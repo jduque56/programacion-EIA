{
 "cells": [
  {
   "attachments": {},
   "cell_type": "markdown",
   "metadata": {},
   "source": [
    "##### Escriba una función que reciba como argumento una lista de números e imprima su media y mediana, usando dos cifras decimales.\n",
    "    Por ejemplo, si la lista recibida es:\n",
    "    [9, 10, 17, 13, 13, 13, 2, 15, 15, 16, 16, 18, 22, 23, 24, 24, 25, 1]\n",
    "    su programa debe retornar:\n",
    "    La media de la lista es: 15.33\n",
    "    La mediana de la lista es: 15.50\n"
   ]
  },
  {
   "cell_type": "code",
   "execution_count": 35,
   "metadata": {},
   "outputs": [
    {
     "ename": "TypeError",
     "evalue": "'str' object is not callable",
     "output_type": "error",
     "traceback": [
      "\u001b[1;31m---------------------------------------------------------------------------\u001b[0m",
      "\u001b[1;31mTypeError\u001b[0m                                 Traceback (most recent call last)",
      "Cell \u001b[1;32mIn[35], line 40\u001b[0m\n\u001b[0;32m     37\u001b[0m     lista\u001b[39m.\u001b[39mappend(aux2)\n\u001b[0;32m     39\u001b[0m media,mediana\u001b[39m=\u001b[39mme(lista,num\u001b[39m=\u001b[39mtamaño)\n\u001b[1;32m---> 40\u001b[0m \u001b[39mprint\u001b[39;49m(media)\n\u001b[0;32m     41\u001b[0m \u001b[39mprint\u001b[39m\u001b[39m=\u001b[39m(\u001b[39mf\u001b[39m\u001b[39m\"\u001b[39m\u001b[39mla media es de\u001b[39m\u001b[39m{\u001b[39;00mmedia\u001b[39m:\u001b[39;00m\u001b[39m2f\u001b[39m\u001b[39m}\u001b[39;00m\u001b[39m y la mediana es de\u001b[39m\u001b[39m{\u001b[39;00mmediana\u001b[39m:\u001b[39;00m\u001b[39m2f\u001b[39m\u001b[39m}\u001b[39;00m\u001b[39m\"\u001b[39m)\n",
      "\u001b[1;31mTypeError\u001b[0m: 'str' object is not callable"
     ]
    }
   ],
   "source": [
    "def me(*args,num):\n",
    "    cnt=0.0\n",
    "    media=0\n",
    "    mediana=0\n",
    "    aux=0\n",
    "    listaux=[]\n",
    "    for idx3 in range(len(args)):\n",
    "        aux=args[idx3]\n",
    "        listaux.append(aux)\n",
    "    \n",
    "    for idx in range(len(args)):\n",
    "        aux=listaux[0][idx]\n",
    "        cnt= cnt + aux\n",
    "\n",
    "    media=cnt/num\n",
    "\n",
    "    for idx1 in range(len(args)):\n",
    "        for idx2 in range(len(args)):\n",
    "            if listaux[0][idx1]<=listaux[0][idx2]:\n",
    "                aux=listaux[0][idx1]\n",
    "                listaux[0][idx1]=listaux[0][idx2]\n",
    "                listaux[0][idx2]=aux\n",
    "    if num%2==0:\n",
    "        aux=num/2\n",
    "        mediana=(listaux[0][aux]+listaux[0][aux+1])/2\n",
    "    else:\n",
    "        aux=int(((num-1)/2)+1)\n",
    "        mediana=listaux[0][aux]\n",
    "    \n",
    "    return media,mediana\n",
    "\n",
    "tamaño=int(input(\"ingrese el tamaño de la lista de numeros\"))\n",
    "lista=[]\n",
    "aux2=0\n",
    "for idx in range(tamaño):\n",
    "    aux2=float(input(\"ingrese un numero\"))\n",
    "    lista.append(aux2)\n",
    "\n",
    "media,mediana=me(lista,num=tamaño)\n",
    "print(media)\n",
    "print=(f\"la media es de{media:2f} y la mediana es de{mediana:2f}\")\n"
   ]
  }
 ],
 "metadata": {
  "kernelspec": {
   "display_name": "Python 3",
   "language": "python",
   "name": "python3"
  },
  "language_info": {
   "codemirror_mode": {
    "name": "ipython",
    "version": 3
   },
   "file_extension": ".py",
   "mimetype": "text/x-python",
   "name": "python",
   "nbconvert_exporter": "python",
   "pygments_lexer": "ipython3",
   "version": "3.10.7"
  },
  "orig_nbformat": 4,
  "vscode": {
   "interpreter": {
    "hash": "58837b1b657ea91009af8409fc244ae3b5ccf93ea980d6fb6b80adc5f697f4cc"
   }
  }
 },
 "nbformat": 4,
 "nbformat_minor": 2
}
