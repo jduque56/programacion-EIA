{
 "cells": [
  {
   "attachments": {},
   "cell_type": "markdown",
   "metadata": {},
   "source": [
    "<h1 align=\"center\">Programación</h1>\n",
    "<h3 align=\"center\">Jorge Andres Duque Restrepo</h3>\n",
    "<h3 align=\"center\">Mini challenge #3</h3>\n",
    "<h3 align=\"center\">11/02/2023</h3>"
   ]
  },
  {
   "attachments": {},
   "cell_type": "markdown",
   "metadata": {},
   "source": [
    "1. Escriba un programa que:\n",
    "    * Le solicite al usuario su peso y su estatura.\n",
    "    * Calcule su índice de masa corporal.\n",
    "    * Indique el valor del índice y si este es considerado bajo (menor que 18.5), normal (entre 18.5 y 25) o alto (mayor o igual que 25)."
   ]
  },
  {
   "cell_type": "code",
   "execution_count": null,
   "metadata": {},
   "outputs": [],
   "source": [
    "#Pido valores al usuario\n",
    "peso = float(input(\"Porfavor digite su masa en kg: \"))\n",
    "estatura = float(input(\"porfavor ingrese su estatura en m: \"))\n",
    "\n",
    "#Calculo de IMC y dedondeo \n",
    "imc = peso/estatura\n",
    "imc = round(imc,1)\n",
    "\n",
    "#Estructura if/else \n",
    "if imc<18.5 and imc>0.0:\n",
    "    print(f\"su IMC es de: {imc}, es bajo\")\n",
    "elif imc>=18.5 and imc<25.0 and imc>0.0:\n",
    "    print(f\"su IMC es de: {imc}, es normal\")\n",
    "elif imc>=25.0 and imc>0.0:\n",
    "    print(f\"su IMC es de: {imc}, es alto\")\n",
    "else:\n",
    "    print(\"Por favor revise los datos ingresados\")"
   ]
  },
  {
   "attachments": {},
   "cell_type": "markdown",
   "metadata": {},
   "source": [
    "2. Un tipo de medio (también conocido como tipo MIME y/o tipo de contenido) es un identificador de **dos partes** para formatos de archivo transmitidos por Internet. Escriba un programa que pida una extensión y devuelva el tipo MIME. Para que el programa no sea muy extenso, considere únicamente las siguientes extensiones: `.doc`, `.gif`, `.jpg`, `.jpeg`, `.png`, `.pdf`, `.ppt`, `.rar`, `.txt` y `.zip`. En caso de que la extensión no pertenezca a la lista, deberá retornar el tipo MIME por defecto:\n",
    "```\n",
    "application/octet-stream\n",
    "```"
   ]
  },
  {
   "cell_type": "code",
   "execution_count": null,
   "metadata": {},
   "outputs": [],
   "source": [
    "#pido el dato al usuario\n",
    "extensión = input(\"por favor ingrese la extensión de su archivo incluyendo el '.': \")\n",
    "\n",
    "#estructura match\n",
    "match extensión.lower():\n",
    "    case \".doc\":\n",
    "        print(\"application/msword\")\n",
    "    case \".gif\":\n",
    "        print(\"image/gif\")\n",
    "    case \".jpg\":\n",
    "        print(\"image/jpeg\")\n",
    "    case \".jpeg\":\n",
    "        print(\"image/jpeg\")\n",
    "    case \".png\":\n",
    "        print(\"image/png\")\n",
    "    case \".pdf\":\n",
    "        print(\"application/pdf\")\n",
    "    case \".ppt\":\n",
    "        print(\"application/vnd.ms-powerpoint\")\n",
    "    case \".rar\":\n",
    "        print(\"application/x-rar-compressed\")\n",
    "    case \".txt\":\n",
    "        print(\"text/plain\")\n",
    "    case \".zip\":\n",
    "        print(\"application/zip\")\n",
    "    case _:\n",
    "        print(\"application/octet-stream\")"
   ]
  },
  {
   "attachments": {},
   "cell_type": "markdown",
   "metadata": {},
   "source": [
    "3. Suponga que está en un país donde se acostumbra desayunar entre las 7:00 y las 8:00, almorzar entre las 12:00 y las 13:00 y cenar entre las 18:00 y las 19:00. Implemente un programa que solicite al usuario una hora y le indique si es la hora del desayuno, la hora del almuerzo y la hora de la cena. Si no es hora de comer, debe salir un mensaje que así lo establezca. Suponga que la entrada del usuario se formateará en formato de 24 horas como `##:##`. Y suponga que el rango de tiempo de cada comida es inclusivo. Por ejemplo, ya sean las 7:00, las 7:01, las 7:59 o las 8:00, o en cualquier momento intermedio, es hora de desayunar."
   ]
  },
  {
   "cell_type": "code",
   "execution_count": 24,
   "metadata": {},
   "outputs": [
    {
     "name": "stdout",
     "output_type": "stream",
     "text": [
      "Es hora de desayunar\n"
     ]
    }
   ],
   "source": [
    "#funcion que pide la hora y le indica al usuario que comida es\n",
    "def main():\n",
    "    hora = input(\"ingrese que hora es en formato 24H: \")\n",
    "    hora = convert(hora)\n",
    "\n",
    "    if hora>=7.0 and hora<=8.0:\n",
    "        print(\"Es hora de desayunar\")\n",
    "    elif hora>=12.0 and hora<=13.0:\n",
    "        print(\"Es hora de almorzar\")\n",
    "    elif hora>=18.0 and hora<=19.0:\n",
    "        print(\"Es hora de cenar\")\n",
    "    else:\n",
    "        print(\"Todavia no es hora de comer\")\n",
    "    \n",
    "#funcion que me convierte formato horas a formato util\n",
    "def convert(x):\n",
    "    \"\"\"\n",
    "    convert(x)\n",
    "\n",
    "    Convierte el fomrato 24H en un fomrato util para el algoritmo\n",
    "\n",
    "    parametros\n",
    "    ----------\n",
    "    x: string\n",
    "\n",
    "    retorna\n",
    "    -------\n",
    "    x: float\n",
    "\n",
    "    ejemplos\n",
    "\n",
    "    n_decimal=convertir(19:50)\n",
    "    print(n_decimal)\n",
    "    \"\"\"\n",
    "\n",
    "    x,y = x.split(\":\")\n",
    "    x=float(x)\n",
    "    y=float(y)\n",
    "    y=y/60\n",
    "    xy=x+y\n",
    "\n",
    "    return xy\n",
    "\n",
    "main()\n",
    "\n"
   ]
  }
 ],
 "metadata": {
  "kernelspec": {
   "display_name": "Python 3",
   "language": "python",
   "name": "python3"
  },
  "language_info": {
   "codemirror_mode": {
    "name": "ipython",
    "version": 3
   },
   "file_extension": ".py",
   "mimetype": "text/x-python",
   "name": "python",
   "nbconvert_exporter": "python",
   "pygments_lexer": "ipython3",
   "version": "3.10.7"
  },
  "orig_nbformat": 4,
  "vscode": {
   "interpreter": {
    "hash": "58837b1b657ea91009af8409fc244ae3b5ccf93ea980d6fb6b80adc5f697f4cc"
   }
  }
 },
 "nbformat": 4,
 "nbformat_minor": 2
}
