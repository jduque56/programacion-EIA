{
 "cells": [
  {
   "attachments": {},
   "cell_type": "markdown",
   "metadata": {},
   "source": [
    "<h3 align='center'>Programacion</h3>\n",
    "<h3 align='center'>Jorge Andres Duque Restrepo</h3>\n",
    "<h3 align='center'>Mini challenge #7</h3>\n",
    "<h3 align='center'>28/04/2023</h3>"
   ]
  },
  {
   "cell_type": "code",
   "execution_count": 3,
   "metadata": {},
   "outputs": [],
   "source": [
    "import numpy as np"
   ]
  },
  {
   "attachments": {},
   "cell_type": "markdown",
   "metadata": {},
   "source": [
    "#### Escriba un programa para generar un vector de $N$ números aleatorios a partir de una distribución normal estándar, usando una precisión de dos cifras decimales. Luego, estos números se deben poner sobre la diagonal de una matriz $N \\times N$, cuyos elementos por fuera de esta son todos cero."
   ]
  },
  {
   "cell_type": "code",
   "execution_count": null,
   "metadata": {},
   "outputs": [],
   "source": [
    "#pido e inicializo las variables necesarias para poder realizar mi ejercicio\n",
    "np.random.seed(0)\n",
    "N = int(input('ingrese que tamaño quiere que sea el vector'))\n",
    "A = np.random.random(N)\n",
    "Z = np.zeros((N,N))\n",
    "aux=0\n",
    "#modifico mi arreglo para qeu sus datos queden de dos cifras decimales\n",
    "A = np.round(A,decimals=2)\n",
    "\n",
    "#cicflo for para meter mi arreglo en la matriz\n",
    "for idx in Z:\n",
    "    idx[aux]=A[aux]\n",
    "    aux+=1\n",
    "print(f\"Arreglo aleatorio\\n{A}\\n\")\n",
    "print(f\"Matriz de zeros\\n{Z}\")\n"
   ]
  },
  {
   "attachments": {},
   "cell_type": "markdown",
   "metadata": {},
   "source": [
    "#### Escriba un programa para crear una matriz de $10\\times 10$, en la que los elementos en los bordes sean iguales a un número especificado por el usuario y los interiores iguales a 0."
   ]
  },
  {
   "cell_type": "code",
   "execution_count": 8,
   "metadata": {},
   "outputs": [
    {
     "name": "stdout",
     "output_type": "stream",
     "text": [
      "[[10. 10. 10. 10. 10. 10. 10. 10. 10. 10.]\n",
      " [10.  0.  0.  0.  0.  0.  0.  0.  0. 10.]\n",
      " [10.  0.  0.  0.  0.  0.  0.  0.  0. 10.]\n",
      " [10.  0.  0.  0.  0.  0.  0.  0.  0. 10.]\n",
      " [10.  0.  0.  0.  0.  0.  0.  0.  0. 10.]\n",
      " [10.  0.  0.  0.  0.  0.  0.  0.  0. 10.]\n",
      " [10.  0.  0.  0.  0.  0.  0.  0.  0. 10.]\n",
      " [10.  0.  0.  0.  0.  0.  0.  0.  0. 10.]\n",
      " [10.  0.  0.  0.  0.  0.  0.  0.  0. 10.]\n",
      " [10. 10. 10. 10. 10. 10. 10. 10. 10. 10.]]\n"
     ]
    }
   ],
   "source": [
    "#pido al usuario el valor que quiere meter dentro de la matriz y la inicializo\n",
    "N_2 = int(input('ingrese el numero que quiere ver dentro de la matriz'))\n",
    "Z_2 = np.zeros((10,10))\n",
    "A_2 = np.random.randint(N_2,N_2+1, size=10)\n",
    "\n",
    "#modifico la primera/ultima fila y columna de mi matriz\n",
    "Z_2[:,0]=A_2\n",
    "Z_2[:,9]=A_2\n",
    "Z_2[0,:]=A_2\n",
    "Z_2[9,:]=A_2\n",
    "\n",
    "print(Z_2)"
   ]
  }
 ],
 "metadata": {
  "kernelspec": {
   "display_name": "Python 3",
   "language": "python",
   "name": "python3"
  },
  "language_info": {
   "codemirror_mode": {
    "name": "ipython",
    "version": 3
   },
   "file_extension": ".py",
   "mimetype": "text/x-python",
   "name": "python",
   "nbconvert_exporter": "python",
   "pygments_lexer": "ipython3",
   "version": "3.10.7"
  },
  "orig_nbformat": 4,
  "vscode": {
   "interpreter": {
    "hash": "58837b1b657ea91009af8409fc244ae3b5ccf93ea980d6fb6b80adc5f697f4cc"
   }
  }
 },
 "nbformat": 4,
 "nbformat_minor": 2
}
