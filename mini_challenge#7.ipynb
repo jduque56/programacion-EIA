{
 "cells": [
  {
   "attachments": {},
   "cell_type": "markdown",
   "metadata": {},
   "source": [
    "<h3 align='center'>Programacion</h3>\n",
    "<h3 align='center'>Jorge Andres Duque Restrepo</h3>\n",
    "<h3 align='center'>Mini challenge #7</h3>\n",
    "<h3 align='center'>28/04/2023</h3>"
   ]
  },
  {
   "cell_type": "code",
   "execution_count": 1,
   "metadata": {},
   "outputs": [],
   "source": [
    "import numpy as np"
   ]
  },
  {
   "attachments": {},
   "cell_type": "markdown",
   "metadata": {},
   "source": [
    "#### Escriba un programa para generar un vector de $N$ números aleatorios a partir de una distribución normal estándar, usando una precisión de dos cifras decimales. Luego, estos números se deben poner sobre la diagonal de una matriz $N \\times N$, cuyos elementos por fuera de esta son todos cero."
   ]
  },
  {
   "cell_type": "code",
   "execution_count": null,
   "metadata": {},
   "outputs": [],
   "source": [
    "#pido e inicializo las variables necesarias para poder realizar mi ejercicio\n",
    "np.random.seed(0)\n",
    "N = int(input('ingrese que tamaño quiere que sea el vector'))\n",
    "A = np.random.random(N)\n",
    "Z = np.zeros((N,N))\n",
    "aux=0\n",
    "#modifico mi arreglo para qeu sus datos queden de dos cifras decimales\n",
    "A = np.round(A,decimals=2)\n",
    "\n",
    "#cicflo for para meter mi arreglo en la matriz\n",
    "for idx in Z:\n",
    "    idx[aux]=A[aux]\n",
    "    aux+=1\n",
    "print(f\"Arreglo aleatorio\\n{A}\\n\")\n",
    "print(f\"Matriz de zeros\\n{Z}\")\n"
   ]
  },
  {
   "attachments": {},
   "cell_type": "markdown",
   "metadata": {},
   "source": [
    "#### Escriba un programa para crear una matriz de $10\\times 10$, en la que los elementos en los bordes sean iguales a un número especificado por el usuario y los interiores iguales a 0."
   ]
  },
  {
   "cell_type": "code",
   "execution_count": null,
   "metadata": {},
   "outputs": [],
   "source": [
    "#pido al usuario el valor que quiere meter dentro de la matriz y la inicializo\n",
    "N_2 = int(input('ingrese el numero que quiere ver dentro de la matriz'))\n",
    "Z_2 = np.zeros((10,10))\n",
    "A_2 = np.random.randint(N_2,N_2+1, size=10)\n",
    "\n",
    "#modifico la primera/ultima fila y columna de mi matriz\n",
    "Z_2[:,0]=A_2\n",
    "Z_2[:,9]=A_2\n",
    "Z_2[0,:]=A_2\n",
    "Z_2[9,:]=A_2\n",
    "\n",
    "print(Z_2)"
   ]
  },
  {
   "attachments": {},
   "cell_type": "markdown",
   "metadata": {},
   "source": [
    "#### Escriba un programa que calcule un promedio ponderado de 15 números. Para esto deberá crear dos arreglos, `valores` en el que se especifican los números a ponderar y `pesos` en el que se especifica la importancia de cada número. Tenga en cuenta que para el cáalculo, `pesos` debe estar normalizado, es decir, la suma de todos sus elementos es 1. Por ejemplo, si los valores a ponderar son notas, es decir, se desea calcular promedio crédito, `pesos` tiene la información de los créditos asociados a cada nota y se divide por el total de créditos."
   ]
  },
  {
   "cell_type": "code",
   "execution_count": 13,
   "metadata": {},
   "outputs": [
    {
     "name": "stdout",
     "output_type": "stream",
     "text": [
      "el promedio ponderado es de:\n",
      "3.80\n"
     ]
    }
   ],
   "source": [
    "#inicializo mis variables auxiliares y arreglos\n",
    "valores=np.empty((15))\n",
    "pesos=np.empty((15))\n",
    "aux1=0\n",
    "aux2=0\n",
    "\n",
    "#ciclo for para poder inicializar mis arreglos\n",
    "for idx in range(len(valores)):\n",
    "    valores[idx] = float((input(\"escriba el valor a ponderar\")))\n",
    "    pesos[idx]= float(input(\"escriba la importancia de dicho valor\"))\n",
    "    \n",
    "\n",
    "#normalizo mi vector pesos\n",
    "for idx2 in pesos:\n",
    "    aux1+=idx2\n",
    "pesos = pesos/aux1\n",
    "    \n",
    "#calculo el promedio poderado y lo muestro en pantalla\n",
    "promedio = valores*pesos\n",
    "for idx in range(len(promedio)):\n",
    "    aux2+=promedio[idx]\n",
    "\n",
    "print(f\"el promedio ponderado es de:\\n{aux2:.2f}\")"
   ]
  }
 ],
 "metadata": {
  "kernelspec": {
   "display_name": "base",
   "language": "python",
   "name": "python3"
  },
  "language_info": {
   "codemirror_mode": {
    "name": "ipython",
    "version": 3
   },
   "file_extension": ".py",
   "mimetype": "text/x-python",
   "name": "python",
   "nbconvert_exporter": "python",
   "pygments_lexer": "ipython3",
   "version": "3.9.13"
  },
  "orig_nbformat": 4,
  "vscode": {
   "interpreter": {
    "hash": "c28da407b5413b3940d87ecdae5ea8ce0c2929d84f560e9f5daaaa2573d53e68"
   }
  }
 },
 "nbformat": 4,
 "nbformat_minor": 2
}
