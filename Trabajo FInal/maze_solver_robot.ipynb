{
 "cells": [
  {
   "attachments": {},
   "cell_type": "markdown",
   "metadata": {},
   "source": [
    "Primero, hice una tabla con distintos modelos de los componentes de mi proyecto para asi hacer varias rutas y ver cual de todas es la mejor en terminos de facilidad y economia. Apoyandome de ChatGPT, claro esta."
   ]
  },
  {
   "cell_type": "markdown",
   "metadata": {},
   "source": []
  },
  {
   "cell_type": "code",
   "execution_count": 3,
   "metadata": {},
   "outputs": [],
   "source": [
    "import numpy as np\n",
    "import csv"
   ]
  },
  {
   "cell_type": "code",
   "execution_count": 7,
   "metadata": {},
   "outputs": [
    {
     "name": "stdout",
     "output_type": "stream",
     "text": [
      "[[ 6.  5.  4.  5.  4.]\n",
      " [ 7.  6.  3.  2.  3.]\n",
      " [ 8.  9.  0.  1.  2.]\n",
      " [ 9.  8.  9. 10.  3.]\n",
      " [10.  7.  6.  5.  4.]]\n",
      "[[[0. 0. 1. 0. 1.]\n",
      "  [0. 1. 0. 1. 1.]\n",
      "  [1. 1. 0. 0. 1.]\n",
      "  [1. 0. 0. 1. 1.]\n",
      "  [1. 0. 0. 0. 1.]]\n",
      "\n",
      " [[1. 1. 1. 1. 1.]\n",
      "  [1. 0. 0. 1. 0.]\n",
      "  [0. 1. 1. 0. 0.]\n",
      "  [0. 0. 1. 1. 0.]\n",
      "  [0. 0. 1. 1. 0.]]\n",
      "\n",
      " [[1. 0. 0. 1. 0.]\n",
      "  [1. 0. 1. 0. 1.]\n",
      "  [1. 1. 1. 0. 0.]\n",
      "  [1. 1. 0. 0. 1.]\n",
      "  [1. 1. 0. 0. 0.]]\n",
      "\n",
      " [[1. 0. 0. 1. 0.]\n",
      "  [0. 1. 1. 0. 0.]\n",
      "  [0. 0. 1. 1. 0.]\n",
      "  [0. 0. 1. 1. 0.]\n",
      "  [1. 1. 1. 1. 1.]]]\n"
     ]
    }
   ],
   "source": [
    "flood_fill = np.zeros((5,5,5))\n",
    "aux_unos = 1.0\n",
    "x = 1\n",
    "\n",
    "#delimito las paredes de mi laberinto y los valores de cada celda\n",
    "with open('archivos_csv/posiciones.csv','r') as csv_file:\n",
    "    flood_fill[0] = np.loadtxt(csv_file,delimiter=\";\")\n",
    "with open('archivos_csv/este.csv','r') as csv_file2:\n",
    "    flood_fill[1] = np.loadtxt(csv_file2,delimiter=\";\")\n",
    "with open('archivos_csv/norte.csv','r') as csv_file3:\n",
    "    flood_fill[2] = np.loadtxt(csv_file3,delimiter=\";\")\n",
    "with open('archivos_csv/oeste.csv','r') as csv_file4:\n",
    "    flood_fill[3] = np.loadtxt(csv_file4,delimiter=\";\")\n",
    "with open('archivos_csv/sur.csv','r') as csv_file5:\n",
    "    flood_fill[4] = np.loadtxt(csv_file5,delimiter=\";\")\n",
    "\n",
    "print(flood_fill[0])\n",
    "print(flood_fill[1:])"
   ]
  },
  {
   "cell_type": "code",
   "execution_count": 2,
   "metadata": {},
   "outputs": [
    {
     "name": "stdout",
     "output_type": "stream",
     "text": [
      "[[ 6.  5.  4.  5.  4.]\n",
      " [ 7.  6.  3.  2.  3.]\n",
      " [ 8.  9.  0.  1.  2.]\n",
      " [ 9.  8.  9. 10.  3.]\n",
      " [10.  7.  6.  5.  4.]]\n"
     ]
    }
   ],
   "source": [
    "\n",
    "flood_fill = np.zeros((5,5,5))\n",
    "with open('archivos_csv/posiciones.csv','r') as csv_file:\n",
    "    csv_reader = np.loadtxt(csv_file,delimiter=\";\")\n",
    "    print(csv_reader)"
   ]
  }
 ],
 "metadata": {
  "kernelspec": {
   "display_name": "base",
   "language": "python",
   "name": "python3"
  },
  "language_info": {
   "codemirror_mode": {
    "name": "ipython",
    "version": 3
   },
   "file_extension": ".py",
   "mimetype": "text/x-python",
   "name": "python",
   "nbconvert_exporter": "python",
   "pygments_lexer": "ipython3",
   "version": "3.9.13"
  },
  "orig_nbformat": 4,
  "vscode": {
   "interpreter": {
    "hash": "c28da407b5413b3940d87ecdae5ea8ce0c2929d84f560e9f5daaaa2573d53e68"
   }
  }
 },
 "nbformat": 4,
 "nbformat_minor": 2
}
