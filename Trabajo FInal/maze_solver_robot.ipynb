{
 "cells": [
  {
   "attachments": {},
   "cell_type": "markdown",
   "metadata": {},
   "source": [
    "<h3 align=\"center\">Algoritmo flood fill</h1>\n",
    "\n",
    "\n",
    "<h3 align=\"center\">Jorge Andres Duque Restrepo</h3>\n",
    "<h3 align=\"center\">Ingenieria Mecatronica</h3>\n",
    "\n",
    "\n",
    "<h3 align=\"center\">Programacion</h3>\n",
    "<h3 align=\"center\">Andrés Quintero Zea</h3>\n",
    "\n",
    "\n",
    "<h3 align=\"center\">Universidad Escuela De Ingenieria De Antioquia</h3>\n",
    "<h3 align=\"center\">24/05/2023</h3>"
   ]
  },
  {
   "attachments": {},
   "cell_type": "markdown",
   "metadata": {},
   "source": [
    "Primero, estuve mirando varias formas de navegacion autonoma para que mi robot resolviera el laberinto, desde inteligencia articifial hasta varios algoritmos. Al final, llegue a la conclusion de que lo que mas se ajustaba debido al tiempo y mis habilidades era el famoso algoritmo flood fill; con esto, vinieron varios retos y sin lugar a dudas el que mas me costo superar era la logica que implementaba este algoritmo, ya que era muy comleja y nunca me habia enfrentado a un proyecto de esta magnitud. Sin embargo, despues de leer varias tesis que usaban este algoritmo, por fin di con la que, segun yo, explicaba de manera sencilla basicamente que trataba el codigo. Luego de saber por donde iba el codigo, me di en la tarea de ver varios ejemplos de proyectos que ya lo habian utilizado para saber que sensores y meconismos iba a utilizar; gracias a dicha busqueda decidi utilisar solo motores y un sensor tipo seguidor de linea, ya que los otros teian un nivel mucho mas avanzados con respecto a su programacion, ademas de que se me subian mucho los precios para realizar el proyecto. Cuando decidí que sensores utilizar, me di en la tarea de programar el algoritmo tipo flood fill"
   ]
  },
  {
   "cell_type": "code",
   "execution_count": 1,
   "metadata": {},
   "outputs": [],
   "source": [
    "import numpy as np\n",
    "import csv"
   ]
  },
  {
   "cell_type": "code",
   "execution_count": 4,
   "metadata": {},
   "outputs": [
    {
     "name": "stdout",
     "output_type": "stream",
     "text": [
      "8.0\n",
      "7.0\n",
      "6.0\n",
      "5.0\n",
      "4.0\n",
      "3.0\n",
      "2.0\n",
      "1.0\n",
      "fin\n",
      "0.0\n"
     ]
    }
   ],
   "source": [
    "flood_fill = np.zeros((5,5,5))\n",
    "aux_u=0\n",
    "aux_uf=0.0\n",
    "aux_uc=0.0\n",
    "\n",
    "#delimito las paredes de mi laberinto y los valores de cada celda\n",
    "with open('archivos_csv/posiciones.csv','r') as csv_file:\n",
    "    flood_fill[0] = np.loadtxt(csv_file,delimiter=\";\")\n",
    "with open('archivos_csv/este.csv','r') as csv_file2:\n",
    "    flood_fill[1] = np.loadtxt(csv_file2,delimiter=\";\")\n",
    "with open('archivos_csv/norte.csv','r') as csv_file3:\n",
    "    flood_fill[2] = np.loadtxt(csv_file3,delimiter=\";\")\n",
    "with open('archivos_csv/oeste.csv','r') as csv_file4:\n",
    "    flood_fill[3] = np.loadtxt(csv_file4,delimiter=\";\")\n",
    "with open('archivos_csv/sur.csv','r') as csv_file5:\n",
    "    flood_fill[4] = np.loadtxt(csv_file5,delimiter=\";\")\n",
    "\n",
    "#inicializo el vector en el que el robot sabra su ubicacion y arreglo en el que se guardara la ubicacion proxima\n",
    "aux_u = input(\"ingresar ubicacion, primero fila luego columna separando por una coma\").split(sep=\",\")\n",
    "ubicacion = np.array([int(x) for x in aux_u])\n",
    "\n",
    "decicion = np.empty_like(ubicacion)\n",
    "\n",
    "print(flood_fill[0][ubicacion[0]][ubicacion[1]])\n",
    "\n",
    "while flood_fill[0][ubicacion[0]][ubicacion[1]] != 0:\n",
    "    #Creo el codigo de toma de deciciones de mi robor\n",
    "    #todas las direcciones  \n",
    "    if ubicacion[0]-1  >= 0 and ubicacion[1]-1 >= 0 and ubicacion[0]+1  < 5 and ubicacion[1]+1 < 5:\n",
    "        #avanza hacia el este \n",
    "        if (flood_fill[0][ubicacion[0]][ubicacion[1]+1] < flood_fill[0][ubicacion[0]-1][ubicacion[1]] or flood_fill[2][ubicacion[0]][ubicacion[1]] == 1) and (flood_fill[0][ubicacion[0]][ubicacion[1]+1] < flood_fill[0][ubicacion[0]][ubicacion[1]-1] or flood_fill[3][ubicacion[0]][ubicacion[1]] == 1) and (flood_fill[0][ubicacion[0]][ubicacion[1]+1] < flood_fill[0][ubicacion[0]+1][ubicacion[1]] or flood_fill[4][ubicacion[0]][ubicacion[1]] == 1) and flood_fill[0][ubicacion[0]][ubicacion[1]] > flood_fill[0][ubicacion[0]][ubicacion[1]+1] and flood_fill[1][ubicacion[0]][ubicacion[1]] != 1:\n",
    "            ubicacion[1]+=1\n",
    "\n",
    "        #avanza hacia el norte \n",
    "        elif (flood_fill[0][ubicacion[0]-1][ubicacion[1]] < flood_fill[0][ubicacion[0]][ubicacion[1]+1] or flood_fill[1][ubicacion[0]][ubicacion[1]] == 1) and (flood_fill[0][ubicacion[0]-1][ubicacion[1]] < flood_fill[0][ubicacion[0]][ubicacion[1]-1] or flood_fill[3][ubicacion[0]][ubicacion[1]] == 1) and (flood_fill[0][ubicacion[0]-1][ubicacion[1]] < flood_fill[0][ubicacion[0]+1][ubicacion[1]] or flood_fill[4][ubicacion[0]][ubicacion[1]] == 1) and flood_fill[0][ubicacion[0]][ubicacion[1]] > flood_fill[0][ubicacion[0]-1][ubicacion[1]] and flood_fill[2][ubicacion[0]][ubicacion[1]] != 1:\n",
    "            ubicacion[0]-=1\n",
    "        \n",
    "        #avanza hacia el oeste \n",
    "        elif (flood_fill[0][ubicacion[0]][ubicacion[1]-1] < flood_fill[0][ubicacion[0]-1][ubicacion[1]] or flood_fill[2][ubicacion[0]][ubicacion[1]] == 1) and (flood_fill[0][ubicacion[0]][ubicacion[1]-1] < flood_fill[0][ubicacion[0]][ubicacion[1]+1] or flood_fill[1][ubicacion[0]][ubicacion[1]] == 1) and (flood_fill[0][ubicacion[0]][ubicacion[1]-1] < flood_fill[0][ubicacion[0]+1][ubicacion[1]] or flood_fill[4][ubicacion[0]][ubicacion[1]] == 1) and flood_fill[0][ubicacion[0]][ubicacion[1]] > flood_fill[0][ubicacion[0]][ubicacion[1]-1] and flood_fill[3][ubicacion[0]][ubicacion[1]] != 1:\n",
    "            ubicacion[1]-=1\n",
    "\n",
    "        #avanza hacia el sur\n",
    "        elif (flood_fill[0][ubicacion[0]+1][ubicacion[1]] < flood_fill[0][ubicacion[0]-1][ubicacion[1]] or flood_fill[2][ubicacion[0]][ubicacion[1]] == 1) and (flood_fill[0][ubicacion[0]+1][ubicacion[1]] < flood_fill[0][ubicacion[0]][ubicacion[1]-1] or flood_fill[3][ubicacion[0]][ubicacion[1]] == 1) and (flood_fill[0][ubicacion[0]+1][ubicacion[1]] < flood_fill[0][ubicacion[0]][ubicacion[1]+1] or flood_fill[1][ubicacion[0]][ubicacion[1]] == 1) and flood_fill[0][ubicacion[0]][ubicacion[1]] > flood_fill[0][ubicacion[0]+1][ubicacion[1]] and flood_fill[4][ubicacion[0]][ubicacion[1]] != 1:\n",
    "            ubicacion[0]+=1\n",
    "\n",
    "    #fila superior\n",
    "    elif (ubicacion[0]-1 == -1 ^ (ubicacion[1]-1 == -1 or ubicacion[1]+1 == 5)) and flood_fill[2][ubicacion[0]][ubicacion[1]] == 1:\n",
    "       \n",
    "        #Avanza hacia el este\n",
    "        if ubicacion[0]-1 == -1 and (flood_fill[0][ubicacion[0]][ubicacion[1]+1] < flood_fill[0][ubicacion[0]][ubicacion[1]-1] or flood_fill[3][ubicacion[0]][ubicacion[1]] == 1) and (flood_fill[0][ubicacion[0]][ubicacion[1]+1] < flood_fill[0][ubicacion[0]+1][ubicacion[1]] or flood_fill[4][ubicacion[0]][ubicacion[1]] == 1) and flood_fill[0][ubicacion[0]][ubicacion[1]] > flood_fill[0][ubicacion[0]][ubicacion[1]+1] and flood_fill[1][ubicacion[0]][ubicacion[1]] != 1:\n",
    "            ubicacion[1]+=1\n",
    "\n",
    "        #Avanza hacia el oeste\n",
    "        elif ubicacion[0]-1 == -1 and (flood_fill[0][ubicacion[0]][ubicacion[1]-1] < flood_fill[0][ubicacion[0]][ubicacion[1]+1] or flood_fill[1][ubicacion[0]][ubicacion[1]] == 1) and (flood_fill[0][ubicacion[0]][ubicacion[1]-1] < flood_fill[0][ubicacion[0]+1][ubicacion[1]] or flood_fill[4][ubicacion[0]][ubicacion[1]] == 1) and flood_fill[0][ubicacion[0]][ubicacion[1]] > flood_fill[0][ubicacion[0]][ubicacion[1]-1] and flood_fill[3][ubicacion[0]][ubicacion[1]] != 1:\n",
    "            ubicacion[1]-=1\n",
    "\n",
    "        #Avanza hacia el sur \n",
    "        elif ubicacion[0]-1 == -1 and (flood_fill[0][ubicacion[0]+1][ubicacion[1]] < flood_fill[0][ubicacion[0]][ubicacion[1]-1] or flood_fill[3][ubicacion[0]][ubicacion[1]] == 1) and (flood_fill[0][ubicacion[0]+1][ubicacion[1]] < flood_fill[0][ubicacion[0]][ubicacion[1]+1] or flood_fill[1][ubicacion[0]][ubicacion[1]] == 1) and flood_fill[0][ubicacion[0]][ubicacion[1]] > flood_fill[0][ubicacion[0]+1][ubicacion[1]] and flood_fill[4][ubicacion[0]][ubicacion[1]] != 1:\n",
    "            ubicacion[0]+=1\n",
    "\n",
    "    #Fila inferior \n",
    "    elif (ubicacion[0]+1 == 5 ^ (ubicacion[1]-1 == -1 or ubicacion[1]+1 == 5)) and flood_fill[4][ubicacion[0]][ubicacion[1]] == 1:\n",
    "        \n",
    "        #Avanza hacia el este\n",
    "        if ubicacion[0]+1 == 5 and (flood_fill[0][ubicacion[0]][ubicacion[1]+1] < flood_fill[0][ubicacion[0]-1][ubicacion[1]] or flood_fill[2][ubicacion[0]][ubicacion[1]] == 1) and (flood_fill[0][ubicacion[0]][ubicacion[1]+1] < flood_fill[0][ubicacion[0]][ubicacion[1]-1] or flood_fill[3][ubicacion[0]][ubicacion[1]] == 1) and flood_fill[0][ubicacion[0]][ubicacion[1]] > flood_fill[0][ubicacion[0]][ubicacion[1]+1] and flood_fill[1][ubicacion[0]][ubicacion[1]] != 1:\n",
    "            ubicacion[1]+=1\n",
    "\n",
    "        #Avanza hacia el norte \n",
    "        elif ubicacion[0]+1 == 5 and (flood_fill[0][ubicacion[0]-1][ubicacion[1]] < flood_fill[0][ubicacion[0]][ubicacion[1]+1] or flood_fill[1][ubicacion[0]][ubicacion[1]] == 1) and (flood_fill[0][ubicacion[0]-1][ubicacion[1]] < flood_fill[0][ubicacion[0]][ubicacion[1]-1] or flood_fill[3][ubicacion[0]][ubicacion[1]] == 1) and flood_fill[0][ubicacion[0]][ubicacion[1]] > flood_fill[0][ubicacion[0]-1][ubicacion[1]] and flood_fill[2][ubicacion[0]][ubicacion[1]] != 1:\n",
    "            ubicacion[0]-=1\n",
    "\n",
    "        #Avanza hacia el oeste  \n",
    "        elif ubicacion[0]+1 == 5 and (flood_fill[0][ubicacion[0]][ubicacion[1]-1] < flood_fill[0][ubicacion[0]-1][ubicacion[1]] or flood_fill[2][ubicacion[0]][ubicacion[1]] == 1) and (flood_fill[0][ubicacion[0]][ubicacion[1]-1] < flood_fill[0][ubicacion[0]][ubicacion[1]+1] or flood_fill[1][ubicacion[0]][ubicacion[1]] == 1) and flood_fill[0][ubicacion[0]][ubicacion[1]] > flood_fill[0][ubicacion[0]][ubicacion[1]-1] and flood_fill[3][ubicacion[0]][ubicacion[1]] != 1:\n",
    "            ubicacion[1]-=1\n",
    "\n",
    "    #Columna izquierda\n",
    "    elif ubicacion[1]-1 == -1:\n",
    "        \n",
    "        #fuera de las esquinas\n",
    "        if ubicacion[0]-1 >= 0 and ubicacion[0]+1 <= 4:\n",
    "            #Avanza hacia el este\n",
    "            if (flood_fill[0][ubicacion[0]][ubicacion[1]+1] < flood_fill[0][ubicacion[0]-1][ubicacion[1]] or flood_fill[2][ubicacion[0]][ubicacion[1]] == 1) and (flood_fill[0][ubicacion[0]][ubicacion[1]+1] < flood_fill[0][ubicacion[0]+1][ubicacion[1]] or flood_fill[4][ubicacion[0]][ubicacion[1]] == 1) and flood_fill[0][ubicacion[0]][ubicacion[1]] > flood_fill[0][ubicacion[0]][ubicacion[1]+1] and flood_fill[1][ubicacion[0]][ubicacion[1]] != 1:\n",
    "                ubicacion[1]+=1\n",
    "\n",
    "            #Avanza hacia el norte\n",
    "            elif (flood_fill[0][ubicacion[0]-1][ubicacion[1]] < flood_fill[0][ubicacion[0]][ubicacion[1]+1] or flood_fill[1][ubicacion[0]][ubicacion[1]] == 1) and (flood_fill[0][ubicacion[0]-1][ubicacion[1]] < flood_fill[0][ubicacion[0]+1][ubicacion[1]] or flood_fill[4][ubicacion[0]][ubicacion[1]] == 1) and flood_fill[0][ubicacion[0]][ubicacion[1]] > flood_fill[0][ubicacion[0]-1][ubicacion[1]] and flood_fill[2][ubicacion[0]][ubicacion[1]] != 1:\n",
    "                ubicacion[0]-=1\n",
    "\n",
    "            #Avanza hacia el sur \n",
    "            elif (flood_fill[0][ubicacion[0]+1][ubicacion[1]] < flood_fill[0][ubicacion[0]-1][ubicacion[1]] or flood_fill[2][ubicacion[0]][ubicacion[1]] == 1) and (flood_fill[0][ubicacion[0]+1][ubicacion[1]] < flood_fill[0][ubicacion[0]][ubicacion[1]+1] or flood_fill[1][ubicacion[0]][ubicacion[1]] == 1) and flood_fill[0][ubicacion[0]][ubicacion[1]] > flood_fill[0][ubicacion[0]+1][ubicacion[1]] and flood_fill[4][ubicacion[0]][ubicacion[1]] != 1:\n",
    "                ubicacion[0]+=1\n",
    "\n",
    "        #Esquina superior \n",
    "        elif ubicacion[0]-1 == -1:\n",
    "            #avanza hacie el este\n",
    "            if (flood_fill[0][ubicacion[0]][ubicacion[1]+1] < flood_fill[0][ubicacion[0]+1][ubicacion[1]] or flood_fill[4][ubicacion[0]][ubicacion[1]] == 1) and flood_fill[0][ubicacion[0]][ubicacion[1]] > flood_fill[0][ubicacion[0]][ubicacion[1]+1] and flood_fill[1][ubicacion[0]][ubicacion[1]] != 1:\n",
    "                ubicacion[1]+=1\n",
    "\n",
    "            #Avanza hacia el sur \n",
    "            elif (flood_fill[0][ubicacion[0]+1][ubicacion[1]] < flood_fill[0][ubicacion[0]][ubicacion[1]+1] or flood_fill[1][ubicacion[0]][ubicacion[1]] == 1) and flood_fill[0][ubicacion[0]][ubicacion[1]] > flood_fill[0][ubicacion[0]+1][ubicacion[1]] and flood_fill[4][ubicacion[0]][ubicacion[1]] != 1:\n",
    "                ubicacion[0]+=1\n",
    "\n",
    "        #Esquina inferior \n",
    "        elif ubicacion[0]+1 == 5:\n",
    "            #avanza hacia el este \n",
    "            if (flood_fill[0][ubicacion[0]][ubicacion[1]+1] < flood_fill[0][ubicacion[0]-1][ubicacion[1]] or flood_fill[2][ubicacion[0]][ubicacion[1]] == 1) and flood_fill[0][ubicacion[0]][ubicacion[1]] > flood_fill[0][ubicacion[0]][ubicacion[1]+1] and flood_fill[1][ubicacion[0]][ubicacion[1]] != 1:\n",
    "                ubicacion[1]+=1\n",
    "\n",
    "            #Avanza hacia el norte\n",
    "            elif (flood_fill[0][ubicacion[0]-1][ubicacion[1]] < flood_fill[0][ubicacion[0]][ubicacion[1]+1] or flood_fill[1][ubicacion[0]][ubicacion[1]] == 1) and flood_fill[0][ubicacion[0]][ubicacion[1]] > flood_fill[0][ubicacion[0]-1][ubicacion[1]] and flood_fill[2][ubicacion[0]][ubicacion[1]] != 1:\n",
    "                ubicacion[0]-=1\n",
    "\n",
    "    #Columna derecha \n",
    "    elif ubicacion[1]+1 == 5:\n",
    "        \n",
    "        #fuera de esquinas\n",
    "        if ubicacion[0]-1 >= 0 and ubicacion[0]+1 <= 4:\n",
    "            #Avanza hacia el norte\n",
    "            if (flood_fill[0][ubicacion[0]-1][ubicacion[1]] < flood_fill[0][ubicacion[0]][ubicacion[1]-1] or flood_fill[3][ubicacion[0]][ubicacion[1]] == 1) and (flood_fill[0][ubicacion[0]-1][ubicacion[1]] < flood_fill[0][ubicacion[0]+1][ubicacion[1]] or flood_fill[4][ubicacion[0]][ubicacion[1]] == 1) and flood_fill[0][ubicacion[0]][ubicacion[1]] > flood_fill[0][ubicacion[0]-1][ubicacion[1]] and flood_fill[2][ubicacion[0]][ubicacion[1]] != 1:\n",
    "                ubicacion[0]-=1\n",
    "            \n",
    "            #Avanza hacia el oeste \n",
    "            elif (flood_fill[0][ubicacion[0]][ubicacion[1]-1] < flood_fill[0][ubicacion[0]-1][ubicacion[1]] or flood_fill[2][ubicacion[0]][ubicacion[1]] == 1) and (flood_fill[0][ubicacion[0]][ubicacion[1]-1] < flood_fill[0][ubicacion[0]+1][ubicacion[1]] or flood_fill[4][ubicacion[0]][ubicacion[1]] == 1) and flood_fill[0][ubicacion[0]][ubicacion[1]] > flood_fill[0][ubicacion[0]][ubicacion[1]-1] and flood_fill[3][ubicacion[0]][ubicacion[1]] != 1:\n",
    "                ubicacion[1]-=1\n",
    "\n",
    "            #Avanza hacia el sur\n",
    "            elif (flood_fill[0][ubicacion[0]+1][ubicacion[1]] < flood_fill[0][ubicacion[0]-1][ubicacion[1]] or flood_fill[2][ubicacion[0]][ubicacion[1]] == 1) and (flood_fill[0][ubicacion[0]+1][ubicacion[1]] < flood_fill[0][ubicacion[0]][ubicacion[1]-1] or flood_fill[3][ubicacion[0]][ubicacion[1]] == 1) and flood_fill[0][ubicacion[0]][ubicacion[1]] > flood_fill[0][ubicacion[0]+1][ubicacion[1]] and flood_fill[4][ubicacion[0]][ubicacion[1]] != 1:\n",
    "                ubicacion[0]+=1\n",
    "        \n",
    "        #esquina superior \n",
    "        if ubicacion[0]-1 == -1:\n",
    "            #Avanza hacia el oeste\n",
    "            if (flood_fill[0][ubicacion[0]][ubicacion[1]-1] < flood_fill[0][ubicacion[0]+1][ubicacion[1]] or flood_fill[4][ubicacion[0]][ubicacion[1]] == 1) and flood_fill[0][ubicacion[0]][ubicacion[1]] > flood_fill[0][ubicacion[0]][ubicacion[1]-1] and flood_fill[3][ubicacion[0]][ubicacion[1]] != 1:\n",
    "                ubicacion[1]-=1\n",
    "            #Avanza hacia el sur\n",
    "            elif (flood_fill[0][ubicacion[0]+1][ubicacion[1]] < flood_fill[0][ubicacion[0]][ubicacion[1]-1] or flood_fill[3][ubicacion[0]][ubicacion[1]] == 1) and flood_fill[0][ubicacion[0]][ubicacion[1]] > flood_fill[0][ubicacion[0]+1][ubicacion[1]] and flood_fill[4][ubicacion[0]][ubicacion[1]] != 1:\n",
    "                ubicacion[0]+=1\n",
    "        \n",
    "        #Esquina inferior \n",
    "        if ubicacion[0]+1 == 5:\n",
    "            #avanza hacia el oeste \n",
    "            if (flood_fill[0][ubicacion[0]][ubicacion[1]-1] < flood_fill[0][ubicacion[0]-1][ubicacion[1]] or flood_fill[2][ubicacion[0]][ubicacion[1]] == 1) and flood_fill[0][ubicacion[0]][ubicacion[1]] > flood_fill[0][ubicacion[0]][ubicacion[1]-1] and flood_fill[3][ubicacion[0]][ubicacion[1]] != 1:\n",
    "                ubicacion[1]-=1\n",
    "\n",
    "            #Avanza hacia el norte \n",
    "            elif (flood_fill[0][ubicacion[0]-1][ubicacion[1]] < flood_fill[0][ubicacion[0]][ubicacion[1]-1] or flood_fill[3][ubicacion[0]][ubicacion[1]] == 1) and flood_fill[0][ubicacion[0]][ubicacion[1]] > flood_fill[0][ubicacion[0]-1][ubicacion[1]] and flood_fill[2][ubicacion[0]][ubicacion[1]] != 1:\n",
    "                ubicacion[0]-=1\n",
    "    if flood_fill[0][ubicacion[0]][ubicacion[1]] == 0:\n",
    "        print(\"fin\")\n",
    "                \n",
    "    print(flood_fill[0][ubicacion[0]][ubicacion[1]])"
   ]
  },
  {
   "attachments": {},
   "cell_type": "markdown",
   "metadata": {},
   "source": [
    "Cuando tuve listo el algoritmo, el siguente paso fue, ocn la ayuda de ChatGPT, armas la matriz morfologica para el hardware de mi robot, teniendo en cuenta costos y dimensiones.\n",
    "\n",
    "<img src=\"img/sensor.jpg\"\n",
    "     width=\"400\"\n",
    "     height=\"300\">\n",
    "<img src=\"img/sensor_color.jpg\"\n",
    "     width=\"400\"\n",
    "     height=\"400\">\n",
    "<img src=\"img/brujula_digital.jpg\"\n",
    "     width=\"400\"\n",
    "     height=\"400\">\n",
    "<img src=\"img/motorreductor.jpg\"\n",
    "     width=\"400\"\n",
    "     height=\"400\">"
   ]
  },
  {
   "attachments": {},
   "cell_type": "markdown",
   "metadata": {},
   "source": [
    "Despues de revisar las sugerencias de chatGPT procedi a hacer una matriz morfologica para saber mas o menos los costes de mi proyecto y poder comprarlos para empezar a materializar mi proyecto."
   ]
  },
  {
   "attachments": {},
   "cell_type": "markdown",
   "metadata": {},
   "source": [
    "Cuando porfin consegui los materiales procedi a soldar todo ya que los sensores venian sin los pines para poder conectarlos al microcontrolador, incluso el microcontrolador en si venia si los pines para poder hacer las conecciones a los sensores"
   ]
  },
  {
   "attachments": {},
   "cell_type": "markdown",
   "metadata": {},
   "source": [
    "Con la ayuda de ChatGPT y la documentacion de los sensores jusnto a la documentacion de micropython y la raspberry pi pico hay que programar los sensores para poder que nuestro robot funcione y que justo al algore"
   ]
  },
  {
   "attachments": {},
   "cell_type": "markdown",
   "metadata": {},
   "source": [
    "Despues de mucho tiempo de meditacion e intento y error me vi de cara a un problema, el tiempo. Debido que nunca habia trabajado en mi vida con un microcontrolador tuve que aprender desde cero, aprendi a instalar un frimware; aprendi a como manejar sensores con una raspberry pi pico; aprendi a como interactuar con el microcontrolador desde un editor de texto; pero no fue suficiente. Asi que opté por presentar solo el algoritmo flood fill que realice para que mi robor pudiese tomar desiciones por si solo sin necesidad de la intervencion del usuario."
   ]
  }
 ],
 "metadata": {
  "kernelspec": {
   "display_name": "base",
   "language": "python",
   "name": "python3"
  },
  "language_info": {
   "codemirror_mode": {
    "name": "ipython",
    "version": 3
   },
   "file_extension": ".py",
   "mimetype": "text/x-python",
   "name": "python",
   "nbconvert_exporter": "python",
   "pygments_lexer": "ipython3",
   "version": "3.9.13"
  },
  "orig_nbformat": 4,
  "vscode": {
   "interpreter": {
    "hash": "c28da407b5413b3940d87ecdae5ea8ce0c2929d84f560e9f5daaaa2573d53e68"
   }
  }
 },
 "nbformat": 4,
 "nbformat_minor": 2
}
