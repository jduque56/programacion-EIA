{
 "cells": [
  {
   "attachments": {},
   "cell_type": "markdown",
   "metadata": {},
   "source": [
    "Primero, hice una tabla con distintos modelos de los componentes de mi proyecto para asi hacer varias rutas y ver cual de todas es la mejor en terminos de facilidad y economia. Apoyandome de ChatGPT, claro esta."
   ]
  },
  {
   "cell_type": "markdown",
   "metadata": {},
   "source": []
  },
  {
   "cell_type": "code",
   "execution_count": 24,
   "metadata": {},
   "outputs": [],
   "source": [
    "import numpy as np\n",
    "import csv"
   ]
  },
  {
   "cell_type": "code",
   "execution_count": 9,
   "metadata": {},
   "outputs": [
    {
     "name": "stdout",
     "output_type": "stream",
     "text": [
      "[[[0. 0. 0. 0. 1.]\n",
      "  [0. 0. 0. 0. 1.]\n",
      "  [0. 0. 0. 0. 1.]\n",
      "  [0. 0. 0. 0. 1.]\n",
      "  [0. 0. 0. 0. 1.]]\n",
      "\n",
      " [[1. 1. 1. 1. 1.]\n",
      "  [0. 0. 0. 0. 0.]\n",
      "  [0. 0. 0. 0. 0.]\n",
      "  [0. 0. 0. 0. 0.]\n",
      "  [0. 0. 0. 0. 0.]]\n",
      "\n",
      " [[1. 0. 0. 1. 0.]\n",
      "  [1. 0. 1. 0. 1.]\n",
      "  [1. 1. 1. 0. 0.]\n",
      "  [1. 1. 0. 0. 1.]\n",
      "  [1. 1. 0. 0. 0.]]\n",
      "\n",
      " [[1. 0. 0. 1. 0.]\n",
      "  [0. 1. 1. 0. 0.]\n",
      "  [0. 0. 1. 1. 0.]\n",
      "  [0. 0. 1. 1. 0.]\n",
      "  [1. 1. 1. 1. 1.]]]\n"
     ]
    }
   ],
   "source": [
    "flood_fill = np.zeros((5,5,5))\n",
    "aux_unos = 1.0\n",
    "x = 1\n",
    "\n",
    "#delimito las fronteras de mi laberinto\n",
    "for idx in range(0,5,1):\n",
    "    flood_fill[1][idx][4]=aux_unos\n",
    "    flood_fill[3][idx][0]=aux_unos\n",
    "    flood_fill[2][0]=aux_unos\n",
    "    flood_fill[4][4]=aux_unos\n",
    "\n",
    "#Configuro las paredes de adentro de mi laberinto\n",
    "for idx in range(0,5,1):\n",
    "    flood_fill[1][idx][4]=aux_unos\n",
    "    flood_fill[3][idx][0]=aux_unos\n",
    "\n",
    "for idx in range(0,5,1):\n",
    "    flood_fill[2][0]=aux_unos\n",
    "    flood_fill[4][4]=aux_unos\n",
    "\n",
    "while x == 1:\n",
    "    matriz = int(input(\"ingrese la matriz a editar\"))\n",
    "    fila = int(input(\"ingrese que fila de dicha matriz quiere editar\"))\n",
    "    columna = int(input(\"ingrese la columna de dicha matriz quiere editar\"))\n",
    "    \n",
    "    flood_fill[matriz][fila][columna] = 1\n",
    "\n",
    "    x = int(input(\"1 para seguir agregando muros, 0 para terminar\"))\n",
    "\n",
    "print(flood_fill[1:])"
   ]
  },
  {
   "cell_type": "code",
   "execution_count": 23,
   "metadata": {},
   "outputs": [
    {
     "name": "stdout",
     "output_type": "stream",
     "text": [
      "[0 1 2]\n",
      "[[0.81461714 0.5814532  0.09633817]\n",
      " [0.7296421  0.58893934 0.2261124 ]]\n",
      "[[0.         1.         2.        ]\n",
      " [0.7296421  0.58893934 0.2261124 ]]\n"
     ]
    }
   ],
   "source": [
    "x = np.random.random((2,3))\n",
    "y = np.arange(3)\n",
    "\n",
    "print(y)\n",
    "print(x)\n",
    "\n",
    "x[0]=y\n",
    "\n",
    "print(x)"
   ]
  }
 ],
 "metadata": {
  "kernelspec": {
   "display_name": "Python 3",
   "language": "python",
   "name": "python3"
  },
  "language_info": {
   "codemirror_mode": {
    "name": "ipython",
    "version": 3
   },
   "file_extension": ".py",
   "mimetype": "text/x-python",
   "name": "python",
   "nbconvert_exporter": "python",
   "pygments_lexer": "ipython3",
   "version": "3.10.7"
  },
  "orig_nbformat": 4,
  "vscode": {
   "interpreter": {
    "hash": "58837b1b657ea91009af8409fc244ae3b5ccf93ea980d6fb6b80adc5f697f4cc"
   }
  }
 },
 "nbformat": 4,
 "nbformat_minor": 2
}
