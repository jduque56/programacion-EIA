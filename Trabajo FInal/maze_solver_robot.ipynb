{
 "cells": [
  {
   "attachments": {},
   "cell_type": "markdown",
   "metadata": {},
   "source": [
    "Primero, hice una tabla con distintos modelos de los componentes de mi proyecto para asi hacer varias rutas y ver cual de todas es la mejor en terminos de facilidad y economia. Apoyandome de ChatGPT, claro esta."
   ]
  },
  {
   "cell_type": "markdown",
   "metadata": {},
   "source": []
  },
  {
   "cell_type": "code",
   "execution_count": 1,
   "metadata": {},
   "outputs": [],
   "source": [
    "import numpy as np\n",
    "import csv"
   ]
  },
  {
   "cell_type": "code",
   "execution_count": 11,
   "metadata": {},
   "outputs": [
    {
     "name": "stdout",
     "output_type": "stream",
     "text": [
      "2\n",
      "[[ 6.  5.  4.  5.  4.]\n",
      " [ 7.  6.  3.  2.  3.]\n",
      " [ 8.  9.  0.  1.  2.]\n",
      " [ 9.  8.  9. 10.  3.]\n",
      " [10.  7.  6.  5.  4.]]\n",
      "[[[0. 0. 1. 0. 1.]\n",
      "  [0. 1. 0. 1. 1.]\n",
      "  [1. 1. 0. 0. 1.]\n",
      "  [1. 0. 0. 1. 1.]\n",
      "  [1. 0. 0. 0. 1.]]\n",
      "\n",
      " [[1. 1. 1. 1. 1.]\n",
      "  [1. 0. 0. 1. 0.]\n",
      "  [0. 1. 1. 0. 0.]\n",
      "  [0. 0. 1. 1. 0.]\n",
      "  [0. 0. 1. 1. 0.]]\n",
      "\n",
      " [[1. 0. 0. 1. 0.]\n",
      "  [1. 0. 1. 0. 1.]\n",
      "  [1. 1. 1. 0. 0.]\n",
      "  [1. 1. 0. 0. 1.]\n",
      "  [1. 1. 0. 0. 0.]]\n",
      "\n",
      " [[1. 0. 0. 1. 0.]\n",
      "  [0. 1. 1. 0. 0.]\n",
      "  [0. 0. 1. 1. 0.]\n",
      "  [0. 0. 1. 1. 0.]\n",
      "  [1. 1. 1. 1. 1.]]]\n"
     ]
    }
   ],
   "source": [
    "flood_fill = np.zeros((5,5,5))\n",
    "aux_u=0\n",
    "aux_uf=0.0\n",
    "aux_uc=0.0\n",
    "\n",
    "#delimito las paredes de mi laberinto y los valores de cada celda\n",
    "with open('archivos_csv/posiciones.csv','r') as csv_file:\n",
    "    flood_fill[0] = np.loadtxt(csv_file,delimiter=\";\")\n",
    "with open('archivos_csv/este.csv','r') as csv_file2:\n",
    "    flood_fill[1] = np.loadtxt(csv_file2,delimiter=\";\")\n",
    "with open('archivos_csv/norte.csv','r') as csv_file3:\n",
    "    flood_fill[2] = np.loadtxt(csv_file3,delimiter=\";\")\n",
    "with open('archivos_csv/oeste.csv','r') as csv_file4:\n",
    "    flood_fill[3] = np.loadtxt(csv_file4,delimiter=\";\")\n",
    "with open('archivos_csv/sur.csv','r') as csv_file5:\n",
    "    flood_fill[4] = np.loadtxt(csv_file5,delimiter=\";\")\n",
    "\n",
    "#inicializo el vector en el que el robot sabra su ubicacion y arreglo en el que se guardara la ubicacion proxima\n",
    "aux_u = input(\"ingresar ubicacion, primero fila luego columna separando por una coma\").split(sep=\",\")\n",
    "ubicacion = np.array([int(x) for x in aux_u])\n",
    "\n",
    "decicion = np.empty_like(ubicacion)\n",
    "\n",
    "#Creo el codigo de toma de deciciones de mi robor \n",
    "if ubicacion[0]-1  < 0 and ubicacion[1]-1 < 0 and ubicacion[0]+1  < 5 and ubicacion[1]+1 < 5:\n",
    "    #avanza hacia el este \n",
    "    if flood_fill[ubicacion[0]] > flood_fill[0][ubicacion[0]][ubicacion[1]+1] and flood_fill[1][ubicacion[0]][ubicacion[1]+1] != 1 and flood_fill[1][ubicacion[0]][ubicacion[1]+1] < flood_fill[2][ubicacion[0]+1][ubicacion[1]] and flood_fill[1][ubicacion[0]][ubicacion[1]+1] < flood_fill[3][ubicacion[0]][ubicacion[1]-1] and flood_fill[1][ubicacion[0]][ubicacion[1]+1] < flood_fill[4][ubicacion[0]+1][ubicacion[1]]:\n",
    "        ubicacion\n",
    "\n",
    "\n",
    "print(ubicacion)\n",
    "print(flood_fill[0])\n",
    "print(flood_fill[1:])"
   ]
  },
  {
   "cell_type": "code",
   "execution_count": 15,
   "metadata": {},
   "outputs": [
    {
     "name": "stdout",
     "output_type": "stream",
     "text": [
      "[[ 6.  5.  4.  5.  4.]\n",
      " [ 7.  6.  3.  2.  3.]\n",
      " [ 8.  9.  0.  1.  2.]\n",
      " [ 9.  8.  9. 10.  3.]\n",
      " [10.  7.  6.  5.  4.]]\n",
      "[0. 0. 0. 0. 0.]\n"
     ]
    }
   ],
   "source": [
    "\n",
    "flood_fill = np.zeros((5,5,5))\n",
    "with open('archivos_csv/posiciones.csv','r') as csv_file:\n",
    "    flood_fill[0] = np.loadtxt(csv_file,delimiter=\";\")\n",
    "    print(flood_fill[0])\n",
    "aux=np.array([0,1])\n",
    "print(flood_fill[0+1][aux[0+1]])\n"
   ]
  }
 ],
 "metadata": {
  "kernelspec": {
   "display_name": "Python 3",
   "language": "python",
   "name": "python3"
  },
  "language_info": {
   "codemirror_mode": {
    "name": "ipython",
    "version": 3
   },
   "file_extension": ".py",
   "mimetype": "text/x-python",
   "name": "python",
   "nbconvert_exporter": "python",
   "pygments_lexer": "ipython3",
   "version": "3.10.7"
  },
  "orig_nbformat": 4,
  "vscode": {
   "interpreter": {
    "hash": "58837b1b657ea91009af8409fc244ae3b5ccf93ea980d6fb6b80adc5f697f4cc"
   }
  }
 },
 "nbformat": 4,
 "nbformat_minor": 2
}
